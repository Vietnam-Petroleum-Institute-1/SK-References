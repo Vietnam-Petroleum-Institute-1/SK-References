{
 "cells": [
  {
   "cell_type": "code",
   "execution_count": 1,
   "metadata": {},
   "outputs": [
    {
     "name": "stdout",
     "output_type": "stream",
     "text": [
      "['The tallest building in Vietnam is the 81-storey Landmark 81 in Ho Chi Minh City, which was ...']\n"
     ]
    }
   ],
   "source": [
    "import semantic_kernel as sk\n",
    "from semantic_kernel.core_skills import WebSearchEngineSkill\n",
    "from semantic_kernel.connectors.search_engine import BingConnector\n",
    "from semantic_kernel.connectors.ai.open_ai import AzureTextCompletion\n",
    "\n",
    "BING_API_KEY = \"75037f51137a43a8bacb6ba35a7203a3\"\n",
    "AZURE_OPENAI_KEY = \"240a3b03a83a4286bfd08fdc0cbdcdbf\"\n",
    "AZURE_OPENAI_ENDPOINT = \"https://vpi-openai-canada-east.openai.azure.com/\"\n",
    "AZURE_OPENAI_API_VERSION = \"2023-07-01-preview\"\n",
    "AZURE_OPENAI_DEPLOYMENT_NAME = \"vpi35turbo16k\"\n",
    "\n",
    "kernel = sk.Kernel()\n",
    "\n",
    "# Configure AI service used by the kernel\n",
    "api_key = AZURE_OPENAI_KEY\n",
    "endpoint = AZURE_OPENAI_ENDPOINT\n",
    "deployment = AZURE_OPENAI_DEPLOYMENT_NAME\n",
    "\n",
    "kernel.add_text_completion_service(\"dv\", AzureTextCompletion(deployment, endpoint, api_key))\n",
    "    \n",
    "connector = BingConnector(api_key=BING_API_KEY)\n",
    "web_skill = kernel.import_skill(WebSearchEngineSkill(connector), \"WebSearch\")\n",
    "\n",
    "search_async = web_skill[\"searchAsync\"]\n",
    "\n",
    "bing_result = await search_async.invoke_async(\"What's the tallest building in Hochiminh City?\")\n",
    "print(bing_result) "
   ]
  }
 ],
 "metadata": {
  "kernelspec": {
   "display_name": "booksage",
   "language": "python",
   "name": "python3"
  },
  "language_info": {
   "codemirror_mode": {
    "name": "ipython",
    "version": 3
   },
   "file_extension": ".py",
   "mimetype": "text/x-python",
   "name": "python",
   "nbconvert_exporter": "python",
   "pygments_lexer": "ipython3",
   "version": "3.11.4"
  }
 },
 "nbformat": 4,
 "nbformat_minor": 2
}
