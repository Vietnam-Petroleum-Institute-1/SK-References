{
 "cells": [
  {
   "cell_type": "markdown",
   "id": "99a80181",
   "metadata": {},
   "source": [
    "# Introduction to the Planner\n",
    "\n",
    "The Planner is one of the fundamental concepts of the Semantic Kernel.\n",
    "\n",
    "It makes use of the collection of native and semantic functions that have been registered to the kernel and using AI, will formulate a plan to execute the given ask.\n",
    "\n",
    "From our own testing, planner works best with more powerful models like `gpt4` but sometimes you might get working plans with cheaper models like `gpt-35-turbo`. We encourage you to implement your own versions of the planner and use different models that fit your user needs.  \n",
    "\n",
    "Read more about planner [here](https://aka.ms/sk/concepts/planner)"
   ]
  },
  {
   "cell_type": "code",
   "execution_count": null,
   "id": "07eb35d2",
   "metadata": {},
   "outputs": [],
   "source": [
    "!python -m pip install semantic-kernel -U"
   ]
  },
  {
   "cell_type": "code",
   "execution_count": 23,
   "id": "11e59885",
   "metadata": {},
   "outputs": [],
   "source": [
    "import semantic_kernel as sk\n",
    "from semantic_kernel.connectors.ai.open_ai import OpenAIChatCompletion, AzureChatCompletion\n",
    "\n",
    "kernel = sk.Kernel()\n",
    "\n",
    "useAzureOpenAI = False\n",
    "\n",
    "# Configure AI backend used by the kernel\n",
    "if useAzureOpenAI:\n",
    "    \n",
    "    deployment, api_key, endpoint = sk.azure_openai_settings_from_dot_env()\n",
    "    kernel.add_chat_service(\"gpt-3.5\", AzureChatCompletion(\"gpt-35-turbo\", endpoint, api_key))\n",
    "else:\n",
    "    api_key, org_id = sk.openai_settings_from_dot_env()\n",
    "    kernel.add_chat_service(\"gpt-3.5\", OpenAIChatCompletion(\"gpt-3.5-turbo\", api_key, org_id))"
   ]
  },
  {
   "cell_type": "markdown",
   "id": "4ff28070",
   "metadata": {},
   "source": [
    "## It all begins with an ask"
   ]
  },
  {
   "cell_type": "code",
   "execution_count": 24,
   "id": "93bc6103",
   "metadata": {},
   "outputs": [],
   "source": [
    "ask = \"\"\"\n",
    "Convert the text to uppercase\n",
    "Tomorrow is Valentine's day. I need to come up with a few date ideas. She speaks French so write it in Vietnamese.\n",
    "\"\"\""
   ]
  },
  {
   "cell_type": "markdown",
   "id": "a5d86739",
   "metadata": {},
   "source": [
    "### Providing skills to the planner\n",
    "The planner needs to know what skills are available to it. Here we'll give it access to the `SummarizeSkill` and `WriterSkill` we have defined on disk. This will include many semantic functions, of which the planner will intelligently choose a subset. \n",
    "\n",
    "You can also include native functions as well. Here we'll add the TextSkill."
   ]
  },
  {
   "cell_type": "code",
   "execution_count": 25,
   "id": "ca0e7604",
   "metadata": {},
   "outputs": [],
   "source": [
    "from semantic_kernel.core_skills.text_skill import TextSkill\n",
    "\n",
    "skills_directory = \"../../samples/skills/\"\n",
    "summarize_skill = kernel.import_semantic_skill_from_directory(skills_directory, \"SummarizeSkill\")\n",
    "writer_skill = kernel.import_semantic_skill_from_directory(skills_directory, \"WriterSkill\")\n",
    "text_skill = kernel.import_skill(TextSkill(), \"TextSkill\")"
   ]
  },
  {
   "cell_type": "markdown",
   "id": "deff5675",
   "metadata": {},
   "source": [
    "Define your ASK. What do you want the Kernel to do?"
   ]
  },
  {
   "cell_type": "markdown",
   "id": "eee6fe7b",
   "metadata": {},
   "source": [
    "# Basic Planner"
   ]
  },
  {
   "cell_type": "markdown",
   "id": "590a22f2",
   "metadata": {},
   "source": [
    " Let's start by taking a look at a basic planner. The `BasicPlanner` produces a JSON-based plan that aims to solve the provided ask sequentially and evaluated in order."
   ]
  },
  {
   "cell_type": "code",
   "execution_count": 26,
   "id": "20d35ed0",
   "metadata": {},
   "outputs": [],
   "source": [
    "from semantic_kernel.planning.basic_planner import BasicPlanner\n",
    "planner = BasicPlanner()"
   ]
  },
  {
   "cell_type": "code",
   "execution_count": 27,
   "id": "d5697c09",
   "metadata": {},
   "outputs": [],
   "source": [
    "basic_plan = await planner.create_plan_async(ask, kernel)"
   ]
  },
  {
   "cell_type": "code",
   "execution_count": 28,
   "id": "b425ba1e",
   "metadata": {},
   "outputs": [
    {
     "name": "stdout",
     "output_type": "stream",
     "text": [
      "{\n",
      "    \"input\": \"Tomorrow is Valentine's day. I need to come up with a few date ideas. She speaks French so write it in Vietnamese.\",\n",
      "    \"subtasks\": [\n",
      "        {\"function\": \"TextSkill.uppercase\"},\n",
      "        {\"function\": \"WriterSkill.NovelOutline\"},\n",
      "        {\"function\": \"WriterSkill.Translate\", \"args\": {\"language\": \"Vietnamese\"}}\n",
      "    ]\n",
      "}\n"
     ]
    }
   ],
   "source": [
    "print(basic_plan.generated_plan)"
   ]
  },
  {
   "cell_type": "markdown",
   "id": "0f3a48f8",
   "metadata": {},
   "source": [
    "You can see that the Planner took my ask and converted it into an JSON-based plan detailing how the AI would go about solving this task, making use of the skills that the Kernel has available to it.\n",
    "\n",
    "As you can see in the above plan, the AI has determined which functions to call in order to fulfill the user ask. The output of each step of the plan becomes the input to the next function."
   ]
  },
  {
   "cell_type": "markdown",
   "id": "cd4df0c2",
   "metadata": {},
   "source": [
    "Let's also define an inline skill and have it be available to the Planner. Be sure to give it a function name and skill name."
   ]
  },
  {
   "cell_type": "code",
   "execution_count": 29,
   "id": "54422ba6",
   "metadata": {},
   "outputs": [],
   "source": [
    "sk_prompt = \"\"\"\n",
    "{{$input}}\n",
    "\n",
    "Rewrite the above in the style of Shakespeare.\n",
    "\"\"\"\n",
    "shakespeareFunction = kernel.create_semantic_function(sk_prompt, \"shakespeare\", \"ShakespeareSkill\",\n",
    "                                                      max_tokens=2000, temperature=0.8)"
   ]
  },
  {
   "cell_type": "markdown",
   "id": "5057cf9b",
   "metadata": {},
   "source": [
    "Let's update our ask using this new skill"
   ]
  },
  {
   "cell_type": "code",
   "execution_count": 30,
   "id": "a3161dcf",
   "metadata": {},
   "outputs": [],
   "source": [
    "ask = \"\"\"\n",
    "Tomorrow is Valentine's day. I need to come up with a few date ideas.\n",
    "She likes Shakespeare so write using his style. She speaks Vietnamese so write it in Vietnamese.\n",
    "Convert the text to uppercase.\n",
    "\"\"\"\n",
    "\n",
    "new_plan = await planner.create_plan_async(ask, kernel)"
   ]
  },
  {
   "cell_type": "code",
   "execution_count": 31,
   "id": "997462e8",
   "metadata": {},
   "outputs": [
    {
     "name": "stdout",
     "output_type": "stream",
     "text": [
      "{\n",
      "    \"input\": \"Valentine's Day Date Ideas\",\n",
      "    \"subtasks\": [\n",
      "        {\"function\": \"WriterSkill.Brainstorm\"},\n",
      "        {\"function\": \"ShakespeareSkill.shakespeare\"},\n",
      "        {\"function\": \"WriterSkill.Translate\", \"args\": {\"language\": \"Vietnamese\"}},\n",
      "        {\"function\": \"TextSkill.uppercase\"}\n",
      "    ]\n",
      "}\n"
     ]
    }
   ],
   "source": [
    "print(new_plan.generated_plan)"
   ]
  },
  {
   "cell_type": "markdown",
   "id": "b67a052e",
   "metadata": {},
   "source": [
    "### Executing the plan"
   ]
  },
  {
   "cell_type": "markdown",
   "id": "3b839c90",
   "metadata": {},
   "source": [
    "Now that we have a plan, let's try to execute it! The Planner has a function called `execute_plan`."
   ]
  },
  {
   "cell_type": "code",
   "execution_count": 32,
   "id": "9384831a",
   "metadata": {},
   "outputs": [],
   "source": [
    "results = await planner.execute_plan_async(new_plan, kernel)"
   ]
  },
  {
   "cell_type": "code",
   "execution_count": 33,
   "id": "9192b186",
   "metadata": {},
   "outputs": [
    {
     "name": "stdout",
     "output_type": "stream",
     "text": [
      "1. CẦU NGUYỆN, THAM GIA MỘT BỮA TIỆC LÃNG MẠN TẠI MỘT NHÀ HÀNG QUÝ TỘC\n",
      "2. MỘT CUỘC HẸN GIỮA VẺ ĐẸP TỰ NHIÊN, MỘT BUỔI PICNIC TRONG MỘT CÔNG VIÊN CÔNG BẰNG\n",
      "3. MỘT NGÀY ĐƯỢC CHĂM SÓC CHO CẶP ĐÔI ĐÍNH HÔN NÀY, MỘT NGÀY TẠI SPA THẦN THÁNH\n",
      "4. CHÚNG TA SẼ HÀNH TRÌNH ĐẾN MỘT VƯỜN NHO ĐỊA PHƯƠNG, ĐỂ THƯỞNG THỨC MẬT ONG CỦA CÁC VỊ THẦN\n",
      "5. CÙNG NHAU, HÃY CHUẨN BỊ MỘT BỮA TIỆC TỰ NẤU, VỚI HAI TAY VÀ HAI TRÁI TIM CỦA CHÚNG TA LIÊN KẾT VỚI NHAU\n",
      "6. MỘT CUỘC ĐI DẠO GIỮA NHỮNG NGỌN ĐỒI XANH TƯƠI, MỘT CUỘC LEO NÚI HOẶC MỘT CUỘC DẠO CHƠI TRONG THIÊN NHIÊN\n",
      "7. TRONG SỰ THOẢI MÁI CỦA NGÔI NHÀ, HÃY THƯỞNG THỨC MỘT CUỘC MARATHON CÁC BỘ PHIM TÌNH YÊU\n",
      "8. MỘT ĐIỆU NHẢY, MỘT VŨ ĐIỆU QUÝ TỘC, CHÚNG TA SẼ HỌC NHẢY NHƯ MỘT\n",
      "9. LÊN THUYỀN, KHI MẶT TRỜI LẶN, TÌNH YÊU CỦA CHÚNG TA TRÔI TRÊN NHỮNG DÒNG NƯỚC YÊN BÌNH\n",
      "10. TRONG MỘT PHÒNG TRƯNG BÀY HOẶC BẢO TÀNG NGHỆ THUẬT, HÃY NGÂM MÌNH TRONG VÒNG TAY VĂN HÓA\n"
     ]
    }
   ],
   "source": [
    "print(results)"
   ]
  },
  {
   "cell_type": "markdown",
   "id": "e8a9b6b7",
   "metadata": {},
   "source": [
    "# The Plan Object Model"
   ]
  },
  {
   "cell_type": "markdown",
   "id": "e50f8859",
   "metadata": {},
   "source": [
    "To build more advanced planners, we need to introduce a proper Plan object that can contain all the necessary state and information needed for high quality plans.\n",
    "\n",
    "To see what that object model is, look at (https://github.com/microsoft/semantic-kernel/blob/main/python/semantic_kernel/planning/plan.py)"
   ]
  },
  {
   "cell_type": "markdown",
   "id": "0a0cb2a2",
   "metadata": {},
   "source": [
    "# Sequential Planner"
   ]
  },
  {
   "cell_type": "markdown",
   "id": "a1c66d83",
   "metadata": {},
   "source": [
    "The sequential planner is an XML-based step-by-step planner. You can see the prompt used for it here (https://github.com/microsoft/semantic-kernel/blob/main/python/semantic_kernel/planning/sequential_planner/Skills/SequentialPlanning/skprompt.txt)"
   ]
  },
  {
   "cell_type": "code",
   "execution_count": 34,
   "id": "e2e90624",
   "metadata": {},
   "outputs": [],
   "source": [
    "from semantic_kernel.planning import SequentialPlanner\n",
    "\n",
    "planner = SequentialPlanner(kernel)"
   ]
  },
  {
   "cell_type": "code",
   "execution_count": 35,
   "id": "2e42db78",
   "metadata": {},
   "outputs": [],
   "source": [
    "ask = \"\"\"\n",
    "Tomorrow is Valentine's day. I need to come up with a few date ideas.\n",
    "She likes Shakespeare so write using his style. She speaks French so write it in French.\n",
    "Convert the text to uppercase.\"\"\""
   ]
  },
  {
   "cell_type": "code",
   "execution_count": 36,
   "id": "0d537981",
   "metadata": {},
   "outputs": [
    {
     "ename": "PlanningException",
     "evalue": "(<ErrorCodes.CreatePlanError: 3>, ('Not possible to create plan for goal with available functions.\\n', \"Goal:\\nTomorrow is Valentine's day. I need to come up with a few date ideas.\\nShe likes Shakespeare so write using his style. She speaks French so write it in French.\\nConvert the text to uppercase.\\nFunctions:\\nSummarizeSkill.MakeAbstractReadable:\\n  description: Given a scientific white paper abstract, rewrite it to make it more readable\\n  inputs:\\n    - input: \\n\\nSummarizeSkill.Summarize:\\n  description: Summarize given text or any text document\\n  inputs:\\n    - input: Text to summarize\\n\\nSummarizeSkill.Topics:\\n  description: Analyze given text or document and extract key topics worth remembering\\n  inputs:\\n    - input: \\n\\nSummarizeSkill.Notegen:\\n  description: Automatically generate compact notes for any text or text document.\\n  inputs:\\n    - input: \\n\\nWriterSkill.NovelChapter:\\n  description: Write a chapter of a novel.\\n  inputs:\\n    - input: A synopsis of what the chapter should be about.\\n  - theme: The theme or topic of this novel.\\n  - previousChapter: The synopsis of the previous chapter.\\n  - chapterIndex: The number of the chapter to write. (default value: <!--===ENDPART===-->)\\n\\nWriterSkill.TwoSentenceSummary:\\n  description: Summarize given text in two sentences or less\\n  inputs:\\n    - input: \\n\\nWriterSkill.StoryGen:\\n  description: Generate a list of synopsis for a novel or novella with sub-chapters\\n  inputs:\\n    - input: \\n\\nWriterSkill.EnglishImprover:\\n  description: Translate text to English and improve it\\n  inputs:\\n    - INPUT: \\n\\nWriterSkill.Rewrite:\\n  description: Automatically generate compact notes for any text or text document\\n  inputs:\\n    - style: \\n  - input: \\n\\nWriterSkill.Brainstorm:\\n  description: Given a goal or topic description generate a list of ideas\\n  inputs:\\n    - input: A topic description or goal.\\n  - INPUT: \\n\\nWriterSkill.Translate:\\n  description: Translate the input into a language of your choice\\n  inputs:\\n    - language: \\n  - input: \\n\\nWriterSkill.NovelChapterWithNotes:\\n  description: Write a chapter of a novel using notes about the chapter to write.\\n  inputs:\\n    - input: What the novel should be about.\\n  - theme: The theme of this novel.\\n  - notes: Notes useful to write this chapter.\\n  - previousChapter: The previous chapter synopsis.\\n  - chapterIndex: The number of the chapter to write.\\n\\nWriterSkill.AcronymGenerator:\\n  description: Given a request to generate an acronym from a string, generate an acronym and provide the acronym explanation.\\n  inputs:\\n    - INPUT: \\n\\nWriterSkill.EmailGen:\\n  description: Write an email from the given bullet points\\n  inputs:\\n    - input: \\n\\nWriterSkill.Acronym:\\n  description: Generate an acronym for the given concept or phrase\\n  inputs:\\n    - input: \\n\\nWriterSkill.ShortPoem:\\n  description: Turn a scenario into a short and entertaining poem.\\n  inputs:\\n    - input: The scenario to turn into a poem.\\n\\nWriterSkill.EmailTo:\\n  description: Turn bullet points into an email to someone, using a polite tone\\n  inputs:\\n    - to: \\n  - input: \\n  - sender: \\n\\nWriterSkill.NovelOutline:\\n  description: Generate a list of chapter synopsis for a novel or novella\\n  inputs:\\n    - input: What the novel should be about.\\n  - chapterCount: The number of chapters to generate.\\n  - endMarker: The marker to use to end each chapter. (default value: <!--===ENDPART===-->)\\n\\nWriterSkill.TellMeMore:\\n  description: Summarize given text or any text document\\n  inputs:\\n    - conversationtype: \\n  - input: \\n  - focusarea: \\n  - previousresults: \\n\\nWriterSkill.AcronymReverse:\\n  description: Given a single word or acronym, generate the expanded form matching the acronym letters.\\n  inputs:\\n    - INPUT: \\n\\n_GLOBAL_FUNCTIONS_.f_ed5169a4_2db5_4fca_be3e_1bf3df7a7869:\\n  description: Generic function, unknown purpose\\n  inputs:\\n    - available_functions: \\n  - goal: \\n\\n_GLOBAL_FUNCTIONS_.f_e9233900_415e_4d69_80e2_359bf83bde8e:\\n  description: Generic function, unknown purpose\\n  inputs:\\n    - available_functions: \\n  - goal: \\n\\nShakespeareSkill.shakespeare:\\n  description: Generic function, unknown purpose\\n  inputs:\\n    - input: \\n\\nTextSkill.lowercase:\\n  description: Convert a string to lowercase.\\n  inputs:\\n    - input: \\n\\nTextSkill.trim:\\n  description: Trim whitespace from the start and end of a string.\\n  inputs:\\n    - input: \\n\\nTextSkill.trim_end:\\n  description: Trim whitespace from the end of a string.\\n  inputs:\\n    - input: \\n\\nTextSkill.trim_start:\\n  description: Trim whitespace from the start of a string.\\n  inputs:\\n    - input: \\n\\nTextSkill.uppercase:\\n  description: Convert a string to uppercase.\\n  inputs:\\n    - input: \"), None)",
     "output_type": "error",
     "traceback": [
      "\u001b[0;31m---------------------------------------------------------------------------\u001b[0m",
      "\u001b[0;31mPlanningException\u001b[0m                         Traceback (most recent call last)",
      "Cell \u001b[0;32mIn[36], line 1\u001b[0m\n\u001b[0;32m----> 1\u001b[0m sequential_plan \u001b[39m=\u001b[39m \u001b[39mawait\u001b[39;00m planner\u001b[39m.\u001b[39mcreate_plan_async(goal\u001b[39m=\u001b[39mask)\n",
      "File \u001b[0;32m~/miniforge3/envs/booksage/lib/python3.11/site-packages/semantic_kernel/planning/sequential_planner/sequential_planner.py:137\u001b[0m, in \u001b[0;36mSequentialPlanner.create_plan_async\u001b[0;34m(self, goal)\u001b[0m\n\u001b[1;32m    135\u001b[0m \u001b[39mexcept\u001b[39;00m PlanningException \u001b[39mas\u001b[39;00m e:\n\u001b[1;32m    136\u001b[0m     \u001b[39mif\u001b[39;00m e\u001b[39m.\u001b[39merror_code \u001b[39m==\u001b[39m PlanningException\u001b[39m.\u001b[39mErrorCodes\u001b[39m.\u001b[39mCreatePlanError:\n\u001b[0;32m--> 137\u001b[0m         \u001b[39mraise\u001b[39;00m e\n\u001b[1;32m    138\u001b[0m     \u001b[39melif\u001b[39;00m e\u001b[39m.\u001b[39merror_code \u001b[39min\u001b[39;00m [\n\u001b[1;32m    139\u001b[0m         PlanningException\u001b[39m.\u001b[39mErrorCodes\u001b[39m.\u001b[39mInvalidPlan,\n\u001b[1;32m    140\u001b[0m         PlanningException\u001b[39m.\u001b[39mErrorCodes\u001b[39m.\u001b[39mInvalidGoal,\n\u001b[1;32m    141\u001b[0m     ]:\n\u001b[1;32m    142\u001b[0m         \u001b[39mraise\u001b[39;00m PlanningException(\n\u001b[1;32m    143\u001b[0m             PlanningException\u001b[39m.\u001b[39mErrorCodes\u001b[39m.\u001b[39mCreatePlanError,\n\u001b[1;32m    144\u001b[0m             \u001b[39m\"\u001b[39m\u001b[39mUnable to create plan\u001b[39m\u001b[39m\"\u001b[39m,\n\u001b[1;32m    145\u001b[0m             e,\n\u001b[1;32m    146\u001b[0m         )\n",
      "File \u001b[0;32m~/miniforge3/envs/booksage/lib/python3.11/site-packages/semantic_kernel/planning/sequential_planner/sequential_planner.py:125\u001b[0m, in \u001b[0;36mSequentialPlanner.create_plan_async\u001b[0;34m(self, goal)\u001b[0m\n\u001b[1;32m    117\u001b[0m     plan \u001b[39m=\u001b[39m SequentialPlanParser\u001b[39m.\u001b[39mto_plan_from_xml(\n\u001b[1;32m    118\u001b[0m         plan_result_string,\n\u001b[1;32m    119\u001b[0m         goal,\n\u001b[1;32m    120\u001b[0m         get_skill_function,\n\u001b[1;32m    121\u001b[0m         \u001b[39mself\u001b[39m\u001b[39m.\u001b[39mconfig\u001b[39m.\u001b[39mallow_missing_functions,\n\u001b[1;32m    122\u001b[0m     )\n\u001b[1;32m    124\u001b[0m     \u001b[39mif\u001b[39;00m \u001b[39mlen\u001b[39m(plan\u001b[39m.\u001b[39m_steps) \u001b[39m==\u001b[39m \u001b[39m0\u001b[39m:\n\u001b[0;32m--> 125\u001b[0m         \u001b[39mraise\u001b[39;00m PlanningException(\n\u001b[1;32m    126\u001b[0m             PlanningException\u001b[39m.\u001b[39mErrorCodes\u001b[39m.\u001b[39mCreatePlanError,\n\u001b[1;32m    127\u001b[0m             (\n\u001b[1;32m    128\u001b[0m                 \u001b[39m\"\u001b[39m\u001b[39mNot possible to create plan for goal with available functions.\u001b[39m\u001b[39m\\n\u001b[39;00m\u001b[39m\"\u001b[39m,\n\u001b[1;32m    129\u001b[0m                 \u001b[39mf\u001b[39m\u001b[39m\"\u001b[39m\u001b[39mGoal:\u001b[39m\u001b[39m{\u001b[39;00mgoal\u001b[39m}\u001b[39;00m\u001b[39m\\n\u001b[39;00m\u001b[39mFunctions:\u001b[39m\u001b[39m\\n\u001b[39;00m\u001b[39m{\u001b[39;00mrelevant_function_manual\u001b[39m}\u001b[39;00m\u001b[39m\"\u001b[39m,\n\u001b[1;32m    130\u001b[0m             ),\n\u001b[1;32m    131\u001b[0m         )\n\u001b[1;32m    133\u001b[0m     \u001b[39mreturn\u001b[39;00m plan\n\u001b[1;32m    135\u001b[0m \u001b[39mexcept\u001b[39;00m PlanningException \u001b[39mas\u001b[39;00m e:\n",
      "\u001b[0;31mPlanningException\u001b[0m: (<ErrorCodes.CreatePlanError: 3>, ('Not possible to create plan for goal with available functions.\\n', \"Goal:\\nTomorrow is Valentine's day. I need to come up with a few date ideas.\\nShe likes Shakespeare so write using his style. She speaks French so write it in French.\\nConvert the text to uppercase.\\nFunctions:\\nSummarizeSkill.MakeAbstractReadable:\\n  description: Given a scientific white paper abstract, rewrite it to make it more readable\\n  inputs:\\n    - input: \\n\\nSummarizeSkill.Summarize:\\n  description: Summarize given text or any text document\\n  inputs:\\n    - input: Text to summarize\\n\\nSummarizeSkill.Topics:\\n  description: Analyze given text or document and extract key topics worth remembering\\n  inputs:\\n    - input: \\n\\nSummarizeSkill.Notegen:\\n  description: Automatically generate compact notes for any text or text document.\\n  inputs:\\n    - input: \\n\\nWriterSkill.NovelChapter:\\n  description: Write a chapter of a novel.\\n  inputs:\\n    - input: A synopsis of what the chapter should be about.\\n  - theme: The theme or topic of this novel.\\n  - previousChapter: The synopsis of the previous chapter.\\n  - chapterIndex: The number of the chapter to write. (default value: <!--===ENDPART===-->)\\n\\nWriterSkill.TwoSentenceSummary:\\n  description: Summarize given text in two sentences or less\\n  inputs:\\n    - input: \\n\\nWriterSkill.StoryGen:\\n  description: Generate a list of synopsis for a novel or novella with sub-chapters\\n  inputs:\\n    - input: \\n\\nWriterSkill.EnglishImprover:\\n  description: Translate text to English and improve it\\n  inputs:\\n    - INPUT: \\n\\nWriterSkill.Rewrite:\\n  description: Automatically generate compact notes for any text or text document\\n  inputs:\\n    - style: \\n  - input: \\n\\nWriterSkill.Brainstorm:\\n  description: Given a goal or topic description generate a list of ideas\\n  inputs:\\n    - input: A topic description or goal.\\n  - INPUT: \\n\\nWriterSkill.Translate:\\n  description: Translate the input into a language of your choice\\n  inputs:\\n    - language: \\n  - input: \\n\\nWriterSkill.NovelChapterWithNotes:\\n  description: Write a chapter of a novel using notes about the chapter to write.\\n  inputs:\\n    - input: What the novel should be about.\\n  - theme: The theme of this novel.\\n  - notes: Notes useful to write this chapter.\\n  - previousChapter: The previous chapter synopsis.\\n  - chapterIndex: The number of the chapter to write.\\n\\nWriterSkill.AcronymGenerator:\\n  description: Given a request to generate an acronym from a string, generate an acronym and provide the acronym explanation.\\n  inputs:\\n    - INPUT: \\n\\nWriterSkill.EmailGen:\\n  description: Write an email from the given bullet points\\n  inputs:\\n    - input: \\n\\nWriterSkill.Acronym:\\n  description: Generate an acronym for the given concept or phrase\\n  inputs:\\n    - input: \\n\\nWriterSkill.ShortPoem:\\n  description: Turn a scenario into a short and entertaining poem.\\n  inputs:\\n    - input: The scenario to turn into a poem.\\n\\nWriterSkill.EmailTo:\\n  description: Turn bullet points into an email to someone, using a polite tone\\n  inputs:\\n    - to: \\n  - input: \\n  - sender: \\n\\nWriterSkill.NovelOutline:\\n  description: Generate a list of chapter synopsis for a novel or novella\\n  inputs:\\n    - input: What the novel should be about.\\n  - chapterCount: The number of chapters to generate.\\n  - endMarker: The marker to use to end each chapter. (default value: <!--===ENDPART===-->)\\n\\nWriterSkill.TellMeMore:\\n  description: Summarize given text or any text document\\n  inputs:\\n    - conversationtype: \\n  - input: \\n  - focusarea: \\n  - previousresults: \\n\\nWriterSkill.AcronymReverse:\\n  description: Given a single word or acronym, generate the expanded form matching the acronym letters.\\n  inputs:\\n    - INPUT: \\n\\n_GLOBAL_FUNCTIONS_.f_ed5169a4_2db5_4fca_be3e_1bf3df7a7869:\\n  description: Generic function, unknown purpose\\n  inputs:\\n    - available_functions: \\n  - goal: \\n\\n_GLOBAL_FUNCTIONS_.f_e9233900_415e_4d69_80e2_359bf83bde8e:\\n  description: Generic function, unknown purpose\\n  inputs:\\n    - available_functions: \\n  - goal: \\n\\nShakespeareSkill.shakespeare:\\n  description: Generic function, unknown purpose\\n  inputs:\\n    - input: \\n\\nTextSkill.lowercase:\\n  description: Convert a string to lowercase.\\n  inputs:\\n    - input: \\n\\nTextSkill.trim:\\n  description: Trim whitespace from the start and end of a string.\\n  inputs:\\n    - input: \\n\\nTextSkill.trim_end:\\n  description: Trim whitespace from the end of a string.\\n  inputs:\\n    - input: \\n\\nTextSkill.trim_start:\\n  description: Trim whitespace from the start of a string.\\n  inputs:\\n    - input: \\n\\nTextSkill.uppercase:\\n  description: Convert a string to uppercase.\\n  inputs:\\n    - input: \"), None)"
     ]
    }
   ],
   "source": [
    "sequential_plan = await planner.create_plan_async(goal=ask)"
   ]
  },
  {
   "cell_type": "markdown",
   "id": "ee2f462b",
   "metadata": {},
   "source": [
    "To see the steps that the Sequential Planner will take, we can iterate over them and print their descriptions"
   ]
  },
  {
   "cell_type": "code",
   "execution_count": null,
   "id": "e7007418",
   "metadata": {},
   "outputs": [],
   "source": [
    "for step in sequential_plan._steps:\n",
    "    print(step.description, \":\", step._state.__dict__)"
   ]
  },
  {
   "cell_type": "markdown",
   "id": "4db5f844",
   "metadata": {},
   "source": [
    "Let's ask the sequential planner to execute the plan."
   ]
  },
  {
   "cell_type": "code",
   "execution_count": null,
   "id": "88411884",
   "metadata": {},
   "outputs": [],
   "source": [
    "result = await sequential_plan.invoke_async()"
   ]
  },
  {
   "cell_type": "code",
   "execution_count": null,
   "id": "36d27aa0",
   "metadata": {},
   "outputs": [],
   "source": [
    "print(result)"
   ]
  },
  {
   "cell_type": "markdown",
   "id": "d6487c75",
   "metadata": {},
   "source": [
    "# Action Planner"
   ]
  },
  {
   "cell_type": "markdown",
   "id": "b045e26b",
   "metadata": {},
   "source": [
    "The action planner takes in a list of functions and the goal, and outputs a **single** function to use that is appropriate to meet that goal."
   ]
  },
  {
   "cell_type": "code",
   "execution_count": 37,
   "id": "5bfc0b9f",
   "metadata": {},
   "outputs": [],
   "source": [
    "from semantic_kernel.planning import ActionPlanner\n",
    "planner = ActionPlanner(kernel)"
   ]
  },
  {
   "cell_type": "markdown",
   "id": "53b1f296",
   "metadata": {},
   "source": [
    "Let's add more skills to the kernel"
   ]
  },
  {
   "cell_type": "code",
   "execution_count": 38,
   "id": "cc12642a",
   "metadata": {},
   "outputs": [
    {
     "data": {
      "text/plain": [
       "{'lowercase': <semantic_kernel.orchestration.sk_function.SKFunction at 0x10fb6bed0>,\n",
       " 'trim': <semantic_kernel.orchestration.sk_function.SKFunction at 0x10dd60a10>,\n",
       " 'trim_end': <semantic_kernel.orchestration.sk_function.SKFunction at 0x10de35c50>,\n",
       " 'trim_start': <semantic_kernel.orchestration.sk_function.SKFunction at 0x10de2fcd0>,\n",
       " 'uppercase': <semantic_kernel.orchestration.sk_function.SKFunction at 0x10fadae10>}"
      ]
     },
     "execution_count": 38,
     "metadata": {},
     "output_type": "execute_result"
    }
   ],
   "source": [
    "from semantic_kernel.core_skills import FileIOSkill, MathSkill, TextSkill, TimeSkill\n",
    "kernel.import_skill(MathSkill(), \"math\")\n",
    "kernel.import_skill(FileIOSkill(), \"fileIO\")\n",
    "kernel.import_skill(TimeSkill(), \"time\")\n",
    "kernel.import_skill(TextSkill(), \"text\")"
   ]
  },
  {
   "cell_type": "code",
   "execution_count": 39,
   "id": "b938dc0e",
   "metadata": {},
   "outputs": [],
   "source": [
    "ask = \"What is the sum of 110 and 990?\""
   ]
  },
  {
   "cell_type": "code",
   "execution_count": 40,
   "id": "3aafd268",
   "metadata": {},
   "outputs": [],
   "source": [
    "plan = await planner.create_plan_async(goal=ask)"
   ]
  },
  {
   "cell_type": "code",
   "execution_count": 41,
   "id": "42589835",
   "metadata": {},
   "outputs": [],
   "source": [
    "result = await plan.invoke_async()"
   ]
  },
  {
   "cell_type": "code",
   "execution_count": 42,
   "id": "dc75e7a9",
   "metadata": {},
   "outputs": [
    {
     "name": "stdout",
     "output_type": "stream",
     "text": [
      "1100\n"
     ]
    }
   ],
   "source": [
    "print(result)"
   ]
  }
 ],
 "metadata": {
  "kernelspec": {
   "display_name": "Python 3 (ipykernel)",
   "language": "python",
   "name": "python3"
  },
  "language_info": {
   "codemirror_mode": {
    "name": "ipython",
    "version": 3
   },
   "file_extension": ".py",
   "mimetype": "text/x-python",
   "name": "python",
   "nbconvert_exporter": "python",
   "pygments_lexer": "ipython3",
   "version": "3.11.4"
  }
 },
 "nbformat": 4,
 "nbformat_minor": 5
}
