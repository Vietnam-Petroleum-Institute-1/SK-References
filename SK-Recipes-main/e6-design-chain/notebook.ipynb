{
 "cells": [
  {
   "attachments": {},
   "cell_type": "markdown",
   "metadata": {},
   "source": [
    "\n",
    "---\n",
    "\n",
    "### Reminder: This 📘 `Python` notebook can be run from VS Code with [these prerequisites](../PREREQS.md)."
   ]
  },
  {
   "attachments": {},
   "cell_type": "markdown",
   "metadata": {},
   "source": [
    "#### How to use this notebook: \n",
    "\n",
    "* Just read the text and scroll along until you run into code blocks.\n",
    "* Code blocks have computer code inside them — hover over the block and you can run the code.\n",
    "* Run the code by hitting the ▶️ \"play\" button to the left. If the code runs you'll see a ✔️. If not, you'll get a ❌.\n",
    "* The output and status of the code block will appear just below itself — you need to scroll down further to see it.\n",
    "* Sometimes a code block will ask you for input in a hard-to-notice dialog box 👆 at the top of your notebook window. \n",
    "\n",
    "---"
   ]
  },
  {
   "attachments": {},
   "cell_type": "markdown",
   "metadata": {},
   "source": [
    "# Recipe VI: 🔥 Kernel Chain Reactions\n",
    "## 🧑‍🍳 Masterfully cook chain 🧂🧂🧂🔥 reactions from multiple semantic functions\n",
    "\n",
    "When people ask me why Semantic Kernel has its slightly odd name, the simple and truthful answer is that the initial conceiver of SK, Deputy CTO of Microsoft Sam Schillace, has been a long admirer of the simplicity of the UNIX kernel. UNIX was a radical departure in operating systems for its simplicity and flexibility — especially when it came to a concept called \"pipes.\" UNIX commands were easy to string together into a chain reaction like:\n",
    "\n",
    "`% do-something | do-more-stuff | do-even-more-stuff >> drop-it-all-in-here.txt`\n",
    "\n",
    "SK lets you do the same thing with the ability to compose functions together as in a chain of functions that take an input that produces an output, and they are connected end-to-end. For example, let's imagine we want to take a bunch of feedback items from customers and understand their painpoints. We can use the `DesignThinkingSkill.Empathize` to give that a go.\n",
    "\n",
    "## Step 1. Instantiate a 🔥 kernel"
   ]
  },
  {
   "cell_type": "code",
   "execution_count": null,
   "metadata": {},
   "outputs": [],
   "source": [
    "!python -m pip install semantic-kernel==0.3.3.dev"
   ]
  },
  {
   "cell_type": "code",
   "execution_count": 1,
   "metadata": {
    "dotnet_interactive": {
     "language": "csharp"
    },
    "polyglot_notebook": {
     "kernelName": "csharp"
    }
   },
   "outputs": [],
   "source": [
    "import semantic_kernel as sk\n",
    "from semantic_kernel.connectors.ai.open_ai import AzureTextCompletion, OpenAITextCompletion\n",
    "\n",
    "kernel = sk.Kernel()\n",
    "\n",
    "useAzureOpenAI = False\n",
    "\n",
    "# Configure AI service used by the kernel\n",
    "if useAzureOpenAI:\n",
    "    deployment, api_key, endpoint = sk.azure_openai_settings_from_dot_env()\n",
    "    kernel.add_text_completion_service(\"dv\", AzureTextCompletion(deployment, endpoint, api_key))\n",
    "else:\n",
    "    api_key, org_id = sk.openai_settings_from_dot_env()\n",
    "    kernel.add_text_completion_service(\"dv\", OpenAITextCompletion(\"text-davinci-003\", api_key, org_id))"
   ]
  },
  {
   "attachments": {},
   "cell_type": "markdown",
   "metadata": {},
   "source": [
    "## Step 2: Load up a 🧂 skill and warm up the 🔥 kernel\n",
    "\n",
    "Empathy is the ability to understand and share the feelings of another. It is a key skill for designers, as it allows them to understand the needs of the people they are designing for. Empathy is also a key skill for developers, as it allows them to address the needs of the people they are building for.\n",
    "\n",
    "One quick way to get a sense for one's users and customers is to analyze data that's readily available: usually in the form of customer support logs or notes from sales team about difficult customer interactions that have recently transpired. A simple SK skill to analyze that information would read as:"
   ]
  },
  {
   "cell_type": "code",
   "execution_count": 2,
   "metadata": {
    "dotnet_interactive": {
     "language": "csharp"
    },
    "polyglot_notebook": {
     "kernelName": "csharp"
    }
   },
   "outputs": [
    {
     "name": "stdout",
     "output_type": "stream",
     "text": [
      "\n",
      "\n",
      "[\n",
      "    { \"sentiment\": \"Frustrated\", \"summary\": \"Customer service not responding to emails or calls\"},\n",
      "    { \"sentiment\": \"Disappointed\", \"summary\": \"Power button and display screen not working despite being under warranty\"},\n",
      "    { \"sentiment\": \"Angry\", \"summary\": \"Power button falling off phone\"}\n",
      "]\n"
     ]
    }
   ],
   "source": [
    "import json\n",
    "\n",
    "# Load the Skills Directory\n",
    "skillsDirectory = \"./skills\"\n",
    "\n",
    "# Load the EmpathizeSkill from the Skills Directory\n",
    "skillDT = kernel.import_semantic_skill_from_directory(skillsDirectory, \"DesignThinkingSkill\");\n",
    "\n",
    "# The default input variable \n",
    "sk_input = \"\"\"\n",
    "Customer 1: The power button on my phone is broken. The warranty is still valid.\n",
    "Customer 2: My display stopped working.\n",
    "Customer 3: The customer service rep didn't answer my email.\n",
    "Customer 4: Every time I call customer support I get no answer.\n",
    "Customer 5: The display screen cracked and it's still under warranty.\n",
    "Customer 6: My power button fell off the phone. That's ridiculous.\n",
    "Customer 7: I'm so frustrated with this company.\n",
    "Customer 8: When I use the power button too much, it stops working.\n",
    "\"\"\"\n",
    "\n",
    "empathize_function = skillDT[\"Empathize\"]\n",
    "empathyResult = empathize_function(sk_input)\n",
    "\n",
    "print(empathyResult)"
   ]
  },
  {
   "attachments": {},
   "cell_type": "markdown",
   "metadata": {},
   "source": [
    "This is commonly known as the \"Empathize\" phase of Stanford University's approach to \"Design Thinking\" with the other phases being: Define, Ideate, Prototype, Test. \n",
    "\n",
    "![](../assets/empathize.png) \n",
    "\n",
    "So in design thinking parlance, we have done the important first step of \"Empathize\" by understanding our customers' painpoints."
   ]
  },
  {
   "attachments": {},
   "cell_type": "markdown",
   "metadata": {},
   "source": [
    "## Step 3. 🧂🔥 Turn the empathy insights into problem definitions\n",
    "\n",
    "We can take this analysis and feed it into a problem-definer skill we have in the `DesignThinkingSkill` toolkit called `Define`:"
   ]
  },
  {
   "cell_type": "code",
   "execution_count": 3,
   "metadata": {
    "dotnet_interactive": {
     "language": "csharp"
    },
    "polyglot_notebook": {
     "kernelName": "csharp"
    }
   },
   "outputs": [
    {
     "name": "stdout",
     "output_type": "stream",
     "text": [
      "\n",
      "\n",
      "[\n",
      "    { \"title\": \"Customer Service Inattention\", \"problem\": \"Customers are not receiving responses to their emails or calls\", \"source\":\"Lack of resources or personnel to respond to customer inquiries\"},\n",
      "    { \"title\": \"Product Defects\", \"problem\": \"Product is not working despite being under warranty\", \"source\":\"Manufacturing defects or lack of quality control\"},\n",
      "    { \"title\": \"Hardware Failure\", \"problem\": \"Power button is falling off the phone\", \"source\":\"Poor design or construction of the device\"},\n",
      "    { \"title\": \"Software Glitches\", \"problem\": \"Display screen not working despite being under warranty\", \"source\":\"Software bugs or compatibility issues\"},\n",
      "    { \"title\": \"Inadequate Support\", \"problem\": \"Customers are not receiving satisfactory responses to their inquiries\", \"source\":\"Lack of training or resources to provide adequate customer service\"}\n",
      "]\n"
     ]
    }
   ],
   "source": [
    "define_function = skillDT[\"Define\"]\n",
    "defineResult = define_function(str(empathyResult))\n",
    "\n",
    "print(defineResult)"
   ]
  },
  {
   "attachments": {},
   "cell_type": "markdown",
   "metadata": {},
   "source": [
    "## Step 4. 🧂🔥 Brainstorm ideas to address the problems\n",
    "\n",
    "And if we were in a mood to attempt to solve their problem, we could use the `DesignThinkingSkill.Ideate` function to brainstorm ideas to address the problems as easy versus difficult:"
   ]
  },
  {
   "cell_type": "code",
   "execution_count": 5,
   "metadata": {
    "dotnet_interactive": {
     "language": "csharp"
    },
    "polyglot_notebook": {
     "kernelName": "csharp"
    }
   },
   "outputs": [
    {
     "name": "stdout",
     "output_type": "stream",
     "text": [
      "\"\\n\\n| Lower-hanging fruit | Higher-hanging fruit |\\n| :--- | :--- |\\n| Implement automated customer service chatbot | Develop an AI-powered customer service system |\\n| Create an online customer service portal | Implement a virtual customer service assistant |\\n| Implement a customer feedback system | Develop a customer service mobile app |\\n| Develop a customer service knowledge base | Develop a customer service analytics platform |\\n| Implement customer service training program | Develop a customer service self-service platform |\\n| Create customer service templates and scripts | Implement a customer service automation system |\\n| Develop a customer service reporting system | Develop a customer service AI-powered chatbot |\\n| Create customer service surveys and polls | Develop a customer service chatbot integration |\\n| Implement customer service performance metrics | Implement a customer service virtual assistant |\\n| Develop customer service escalation process | Develop a customer service AI-powered analytics platform |\"\n"
     ]
    }
   ],
   "source": [
    "ideate_function = skillDT[\"Ideate\"];\n",
    "ideateResult = ideate_function(str(defineResult));"
   ]
  },
  {
   "cell_type": "code",
   "execution_count": 6,
   "metadata": {},
   "outputs": [
    {
     "data": {
      "text/markdown": [
       "\n",
       "\n",
       "| Lower-hanging fruit | Higher-hanging fruit |\n",
       "| :--- | :--- |\n",
       "| Implement automated customer service chatbot | Develop an AI-powered customer service system |\n",
       "| Create an online customer service portal | Implement a virtual customer service assistant |\n",
       "| Implement a customer feedback system | Develop a customer service mobile app |\n",
       "| Develop a customer service knowledge base | Develop a customer service analytics platform |\n",
       "| Implement customer service training program | Develop a customer service self-service platform |\n",
       "| Create customer service templates and scripts | Implement a customer service automation system |\n",
       "| Develop a customer service reporting system | Develop a customer service AI-powered chatbot |\n",
       "| Create customer service surveys and polls | Develop a customer service chatbot integration |\n",
       "| Implement customer service performance metrics | Implement a customer service virtual assistant |\n",
       "| Develop customer service escalation process | Develop a customer service AI-powered analytics platform |"
      ],
      "text/plain": [
       "<IPython.core.display.Markdown object>"
      ]
     },
     "metadata": {},
     "output_type": "display_data"
    }
   ],
   "source": [
    "from IPython.display import display, Markdown\n",
    "display(Markdown(str(ideateResult)))"
   ]
  },
  {
   "attachments": {},
   "cell_type": "markdown",
   "metadata": {},
   "source": [
    "## Step 6. 🧂🧂🧂🔥 Do it all again, but as a chain reaction \n",
    "\n",
    "Each step unlocks more power. But what if we could just chain these all together instead of just incrementally process them. That would set a chain reaction in motion from customer support logs all the way to ideas of how to address their concerns. Let's build that:"
   ]
  },
  {
   "cell_type": "code",
   "execution_count": 9,
   "metadata": {
    "dotnet_interactive": {
     "language": "csharp"
    },
    "polyglot_notebook": {
     "kernelName": "csharp"
    }
   },
   "outputs": [
    {
     "data": {
      "text/markdown": [
       "\n",
       "\n",
       "| Lower-hanging fruit | Higher-hanging fruit |\n",
       "| :--- | :--- |\n",
       "| Automated customer service chatbot | Develop a mobile app for customer service |\n",
       "| Establish a customer loyalty program | Introduce a rewards program for customers |\n",
       "| Create an online knowledge base | Expand customer service hours |\n",
       "| Offer self-service options for customers | Create a customer feedback survey |\n",
       "| Develop a customer service training program | Introduce an automated billing system |\n",
       "| Implement a customer service ticketing system | Establish a customer service team |\n",
       "| Introduce a customer service rewards program | Implement a customer service analytics platform |\n",
       "| Create a customer service FAQ page | Offer a customer service live chat feature |\n",
       "| Develop a customer service email system | Create a customer service chatbot |\n",
       "| Implement a customer service chatbot | Introduce a customer service video chat feature |"
      ],
      "text/plain": [
       "<IPython.core.display.Markdown object>"
      ]
     },
     "metadata": {},
     "output_type": "display_data"
    }
   ],
   "source": [
    "# Load the Skills Directory\n",
    "skillsDirectory = \"./skills\"\n",
    "\n",
    "# Load the EmpathizeSkill from the Skills Directory\n",
    "skillDT = kernel.import_semantic_skill_from_directory(skillsDirectory, \"DesignThinkingSkill\");\n",
    "\n",
    "sk_input = \"\"\"\n",
    "Customer 1: The power button on my phone is broken. The warranty is still valid.\n",
    "Customer 2: My display stopped working.\n",
    "Customer 3: The customer service rep didn't answer my email.\n",
    "Customer 4: Every time I call customer support I get no answer.\n",
    "Customer 5: The display screen cracked and it's still under warranty.\n",
    "Customer 6: My power button fell off the phone. That's ridiculous.\n",
    "Customer 7: I'm so frustrated with this company.\n",
    "Customer 8: When I use the power button too much, it stops working.\n",
    "\"\"\"\n",
    "\n",
    "myResult = await kernel.run_async(skillDT[\"Empathize\"], skillDT[\"Define\"],\n",
    "                                   skillDT[\"Ideate\"], input_str=sk_input)\n",
    "\n",
    "from IPython.display import display, Markdown\n",
    "display(Markdown(str(myResult)))"
   ]
  },
  {
   "attachments": {},
   "cell_type": "markdown",
   "metadata": {},
   "source": [
    "Neat, huh? We just connected each of the functions together so the first input goes into the next output, goes into a new input, and sends out a new output, etc.\n",
    "\n",
    "# ⏭️ Next Steps\n",
    "\n",
    "Run through more advanced examples in the notebooks that are available in our GitHub repo at [https://aka.ms/sk/repo](https://aka.ms/sk/repo).\n",
    "\n",
    "[Ready for a bonus round? Got chat?](../e7-bonus-chat/notebook.ipynb)\n",
    "\n",
    "Or stay a longer while and alter the customer support comments to get suggestions for your own product or services."
   ]
  }
 ],
 "metadata": {
  "kernelspec": {
   "display_name": "Python 3",
   "language": "python",
   "name": "python3"
  },
  "language_info": {
   "codemirror_mode": {
    "name": "ipython",
    "version": 3
   },
   "file_extension": ".py",
   "mimetype": "text/x-python",
   "name": "python",
   "nbconvert_exporter": "python",
   "pygments_lexer": "ipython3",
   "version": "3.11.4"
  },
  "orig_nbformat": 4
 },
 "nbformat": 4,
 "nbformat_minor": 2
}
