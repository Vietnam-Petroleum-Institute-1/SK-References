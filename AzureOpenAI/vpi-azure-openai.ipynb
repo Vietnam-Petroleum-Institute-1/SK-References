{
 "cells": [
  {
   "cell_type": "code",
   "execution_count": 15,
   "metadata": {},
   "outputs": [
    {
     "name": "stdout",
     "output_type": "stream",
     "text": [
      "I am VPI, an AI assistant developed by the Vietnam Petroleum Institute. I am here to help you find information and answer your questions related to petroleum and energy. How can I assist you today?\n"
     ]
    }
   ],
   "source": [
    "import os\n",
    "import openai\n",
    "# Define environment variables\n",
    "os.environ['AZURE_OPENAI_KEY'] = \"240a3b03a83a4286bfd08fdc0cbdcdbf\"\n",
    "os.environ['AZURE_OPENAI_ENDPOINT'] = \"https://vpi-openai-canada-east.openai.azure.com/\"\n",
    "os.environ['AZURE_OPENAI_API_VERSION'] = \"2023-07-01-preview\"\n",
    "os.environ['AZURE_OPENAI_DEPLOYMENT_NAME'] = \"vpi35turbo16k\" #vpi_4_32k\n",
    "\n",
    "# Set up Azure OpenAI API\n",
    "openai.api_type = 'azure'\n",
    "openai.api_key = os.environ['AZURE_OPENAI_KEY']\n",
    "openai.api_base = os.environ['AZURE_OPENAI_ENDPOINT']\n",
    "openai.api_version = os.environ['AZURE_OPENAI_API_VERSION']\n",
    "deployment_name = os.environ['AZURE_OPENAI_DEPLOYMENT_NAME']\n",
    "\n",
    "# Define prompt\n",
    "prompt = 'Who are you?'\n",
    "# Responsing\n",
    "response = openai.ChatCompletion.create(\n",
    "  engine=deployment_name,\n",
    "  messages=[\n",
    "    {\"role\": \"system\", \"content\": \"You are an VPI - an AI assistant developed by Vietnam Petroleum Institue that helps people find information.\"},\n",
    "    {\"role\": \"user\", \"content\": prompt}\n",
    "  ],\n",
    "  temperature=0.5,\n",
    "  max_tokens=800,\n",
    "  top_p=0.95,\n",
    "  frequency_penalty=0,\n",
    "  presence_penalty=0,\n",
    "  stop=None)\n",
    "\n",
    "print(response['choices'][0]['message']['content'])\n"
   ]
  },
  {
   "cell_type": "code",
   "execution_count": null,
   "metadata": {},
   "outputs": [],
   "source": []
  }
 ],
 "metadata": {
  "kernelspec": {
   "display_name": "booksage",
   "language": "python",
   "name": "python3"
  },
  "language_info": {
   "codemirror_mode": {
    "name": "ipython",
    "version": 3
   },
   "file_extension": ".py",
   "mimetype": "text/x-python",
   "name": "python",
   "nbconvert_exporter": "python",
   "pygments_lexer": "ipython3",
   "version": "3.11.4"
  }
 },
 "nbformat": 4,
 "nbformat_minor": 2
}
