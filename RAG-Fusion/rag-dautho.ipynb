{
 "cells": [
  {
   "cell_type": "code",
   "execution_count": 15,
   "metadata": {},
   "outputs": [],
   "source": [
    "import cohere\n",
    "import openai, random, os\n",
    "from qdrant_client import QdrantClient\n",
    "from qna import responding_openai\n",
    "from datetime import datetime\n",
    "from dotenv import load_dotenv\n",
    "\n",
    "# Load environment variables\n",
    "load_dotenv()\n",
    "\n",
    "# Initialize OpenAI API\n",
    "openai.api_key = os.environ['OPENAI_API_KEY']\n",
    "# Cohere API\n",
    "co = cohere.Client('4ECOTqDXJpIYhxMQhUZxY12PPSqvgtYFclJm4Gnz')\n",
    "# Define QdrantClient CONGDOAN\n",
    "os.environ['QDRANT_URL'] = \"https://e8a5fbc5-cfa2-4203-8a6d-d5be737d36e6.us-east4-0.gcp.cloud.qdrant.io:6333\"\n",
    "os.environ['QDRANT_API_KEY'] = 'ZDM2poNcaFvsCtwAQLBWwTDJkfkXoTbB5mOd5C839TTKI_DdiIiWfQ'\n",
    "os.environ['QDRANT_COLLECTION_NAME'] = 'context'\n",
    "\n",
    "qdrant_client = QdrantClient(url=os.environ['QDRANT_URL'], api_key=os.environ['QDRANT_API_KEY'])\n"
   ]
  },
  {
   "cell_type": "code",
   "execution_count": 24,
   "metadata": {},
   "outputs": [
    {
     "data": {
      "text/plain": [
       "CountResult(count=2)"
      ]
     },
     "execution_count": 24,
     "metadata": {},
     "output_type": "execute_result"
    }
   ],
   "source": [
    "qdrant_client.count(collection_name=os.environ['QDRANT_COLLECTION_NAME'])"
   ]
  },
  {
   "cell_type": "markdown",
   "metadata": {},
   "source": [
    "### RAG (Conventional)"
   ]
  },
  {
   "cell_type": "code",
   "execution_count": 16,
   "metadata": {},
   "outputs": [],
   "source": [
    "# Openai Embedding a text to vector\n",
    "def get_embedding(text, model=\"text-embedding-ada-002\"):\n",
    "   text = text.replace(\"\\n\", \" \")\n",
    "   return openai.Embedding.create(input = [text], model=model)['data'][0]['embedding']\n",
    "def get_embedding_co(text):\n",
    "    return co.embed(texts=[text], model=\"multilingual-22-12\")\n",
    "\n",
    "# Search Qdrant Docs\n",
    "def search_qdrant(query, top_k=3, embed='openai'):\n",
    "    if embed == 'cohere':\n",
    "        query_vector = get_embedding_co(query).embeddings[0]\n",
    "    else:\n",
    "        query_vector = get_embedding(query)\n",
    "    search_result = qdrant_client.search(\n",
    "        collection_name=os.environ['QDRANT_COLLECTION_NAME'],\n",
    "        query_vector=query_vector,\n",
    "        limit=top_k\n",
    "    )\n",
    "    score_dict =  {result.payload['page_content']: result.score for result in search_result}\n",
    "    return search_result, score_dict"
   ]
  },
  {
   "cell_type": "code",
   "execution_count": 18,
   "metadata": {},
   "outputs": [],
   "source": [
    "# Querying\n",
    "query = \"Thị trường dầu thô đang diễn biến ra sao?\"\n",
    "# Get relevant documents\n",
    "unranked_search_result, unranked_score_dict = search_qdrant(query, embed='cohere')"
   ]
  },
  {
   "cell_type": "code",
   "execution_count": 27,
   "metadata": {},
   "outputs": [
    {
     "name": "stdout",
     "output_type": "stream",
     "text": [
      "0.7509419\n"
     ]
    }
   ],
   "source": [
    "cont = unranked_search_result[0].payload['page_content']\n",
    "score_ = unranked_search_result[1].score\n",
    "len(cont)\n",
    "print(score_)"
   ]
  },
  {
   "cell_type": "code",
   "execution_count": 28,
   "metadata": {},
   "outputs": [
    {
     "data": {
      "text/plain": [
       "dict_values([0.80444384, 0.7509419])"
      ]
     },
     "execution_count": 28,
     "metadata": {},
     "output_type": "execute_result"
    }
   ],
   "source": [
    "unranked_score_dict.values()"
   ]
  },
  {
   "cell_type": "code",
   "execution_count": 14,
   "metadata": {},
   "outputs": [
    {
     "name": "stdout",
     "output_type": "stream",
     "text": [
      "Length of Prompt exceeds the limitation of LLM input. Task closed!\n"
     ]
    },
    {
     "ename": "UnboundLocalError",
     "evalue": "cannot access local variable 'results' where it is not associated with a value",
     "output_type": "error",
     "traceback": [
      "\u001b[0;31m---------------------------------------------------------------------------\u001b[0m",
      "\u001b[0;31mUnboundLocalError\u001b[0m                         Traceback (most recent call last)",
      "\u001b[1;32m/Users/vpi103/Desktop/DnA/2_PROJECTS/1_PERSONAL_PROJECTS/2023_GPT_PDF/SemanticKernel/SK-References/RAG-Fusion/rag-dautho.ipynb Cell 4\u001b[0m line \u001b[0;36m8\n\u001b[1;32m      <a href='vscode-notebook-cell:/Users/vpi103/Desktop/DnA/2_PROJECTS/1_PERSONAL_PROJECTS/2023_GPT_PDF/SemanticKernel/SK-References/RAG-Fusion/rag-dautho.ipynb#W3sZmlsZQ%3D%3D?line=5'>6</a>\u001b[0m search_info \u001b[39m=\u001b[39m \u001b[39m\"\u001b[39m\u001b[39m\\n\u001b[39;00m\u001b[39m\\n\u001b[39;00m\u001b[39m\"\u001b[39m\u001b[39m.\u001b[39mjoin(unranked_search_result[i]\u001b[39m.\u001b[39mpayload[\u001b[39m'\u001b[39m\u001b[39mpage_content\u001b[39m\u001b[39m'\u001b[39m] \u001b[39mfor\u001b[39;00m i \u001b[39min\u001b[39;00m \u001b[39mrange\u001b[39m(\u001b[39mlen\u001b[39m(unranked_search_result)))\n\u001b[1;32m      <a href='vscode-notebook-cell:/Users/vpi103/Desktop/DnA/2_PROJECTS/1_PERSONAL_PROJECTS/2023_GPT_PDF/SemanticKernel/SK-References/RAG-Fusion/rag-dautho.ipynb#W3sZmlsZQ%3D%3D?line=6'>7</a>\u001b[0m \u001b[39m# Generate response with OpenAI\u001b[39;00m\n\u001b[0;32m----> <a href='vscode-notebook-cell:/Users/vpi103/Desktop/DnA/2_PROJECTS/1_PERSONAL_PROJECTS/2023_GPT_PDF/SemanticKernel/SK-References/RAG-Fusion/rag-dautho.ipynb#W3sZmlsZQ%3D%3D?line=7'>8</a>\u001b[0m results, chatgpt_response_time \u001b[39m=\u001b[39m responding_openai(query, search_info)\n\u001b[1;32m      <a href='vscode-notebook-cell:/Users/vpi103/Desktop/DnA/2_PROJECTS/1_PERSONAL_PROJECTS/2023_GPT_PDF/SemanticKernel/SK-References/RAG-Fusion/rag-dautho.ipynb#W3sZmlsZQ%3D%3D?line=8'>9</a>\u001b[0m \u001b[39mprint\u001b[39m(results)\n",
      "File \u001b[0;32m~/Desktop/DnA/2_PROJECTS/1_PERSONAL_PROJECTS/2023_GPT_PDF/SemanticKernel/SK-References/RAG-Fusion/qna.py:41\u001b[0m, in \u001b[0;36mresponding_openai\u001b[0;34m(query, _search_info)\u001b[0m\n\u001b[1;32m     38\u001b[0m     \u001b[39m#Response Time (s)\u001b[39;00m\n\u001b[1;32m     39\u001b[0m     chatgpt_response_time \u001b[39m=\u001b[39m (datetime\u001b[39m.\u001b[39mnow() \u001b[39m-\u001b[39m _start)\n\u001b[0;32m---> 41\u001b[0m \u001b[39mreturn\u001b[39;00m results, chatgpt_response_time\n",
      "\u001b[0;31mUnboundLocalError\u001b[0m: cannot access local variable 'results' where it is not associated with a value"
     ]
    }
   ],
   "source": [
    "# Querying\n",
    "query = \"Thị trường dầu thô đang diễn biến ra sao?\"\n",
    "# Get relevant documents\n",
    "unranked_search_result, unranked_score_dict = search_qdrant(query)\n",
    "# Re-arrange the received documents\n",
    "search_info = \"\\n\\n\".join(unranked_search_result[i].payload['page_content'] for i in range(len(unranked_search_result)))\n",
    "# Generate response with OpenAI\n",
    "results, chatgpt_response_time = responding_openai(query, search_info)\n",
    "print(results)"
   ]
  }
 ],
 "metadata": {
  "kernelspec": {
   "display_name": "booksage",
   "language": "python",
   "name": "python3"
  },
  "language_info": {
   "codemirror_mode": {
    "name": "ipython",
    "version": 3
   },
   "file_extension": ".py",
   "mimetype": "text/x-python",
   "name": "python",
   "nbconvert_exporter": "python",
   "pygments_lexer": "ipython3",
   "version": "3.11.4"
  }
 },
 "nbformat": 4,
 "nbformat_minor": 2
}
