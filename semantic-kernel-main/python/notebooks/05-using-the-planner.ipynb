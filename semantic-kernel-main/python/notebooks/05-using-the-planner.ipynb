{
 "cells": [
  {
   "cell_type": "markdown",
   "id": "99a80181",
   "metadata": {},
   "source": [
    "# Introduction to the Planner\n",
    "\n",
    "The Planner is one of the fundamental concepts of the Semantic Kernel.\n",
    "\n",
    "It makes use of the collection of native and semantic functions that have been registered to the kernel and using AI, will formulate a plan to execute the given ask.\n",
    "\n",
    "From our own testing, planner works best with more powerful models like `gpt4` but sometimes you might get working plans with cheaper models like `gpt-35-turbo`. We encourage you to implement your own versions of the planner and use different models that fit your user needs.  \n",
    "\n",
    "Read more about planner [here](https://aka.ms/sk/concepts/planner)"
   ]
  },
  {
   "cell_type": "code",
   "execution_count": null,
   "id": "07eb35d2",
   "metadata": {},
   "outputs": [],
   "source": [
    "!python -m pip install semantic-kernel -U"
   ]
  },
  {
   "cell_type": "code",
   "execution_count": 1,
   "id": "11e59885",
   "metadata": {},
   "outputs": [],
   "source": [
    "import semantic_kernel as sk\n",
    "from semantic_kernel.connectors.ai.open_ai import OpenAIChatCompletion, AzureChatCompletion\n",
    "\n",
    "kernel = sk.Kernel()\n",
    "\n",
    "useAzureOpenAI = False\n",
    "\n",
    "# Configure AI backend used by the kernel\n",
    "if useAzureOpenAI:\n",
    "    \n",
    "    deployment, api_key, endpoint = sk.azure_openai_settings_from_dot_env()\n",
    "    kernel.add_chat_service(\"gpt-3.5\", AzureChatCompletion(\"gpt-35-turbo\", endpoint, api_key))\n",
    "else:\n",
    "    api_key, org_id = sk.openai_settings_from_dot_env()\n",
    "    kernel.add_chat_service(\"gpt-3.5\", OpenAIChatCompletion(\"gpt-3.5-turbo-16k\", api_key, org_id))"
   ]
  },
  {
   "cell_type": "markdown",
   "id": "4ff28070",
   "metadata": {},
   "source": [
    "## It all begins with an ask"
   ]
  },
  {
   "cell_type": "code",
   "execution_count": 3,
   "id": "93bc6103",
   "metadata": {},
   "outputs": [],
   "source": [
    "ask = \"\"\"\n",
    "Tomorrow is Valentine's day. I need to come up with a few date ideas. She speaks French so write it in French.\n",
    "Convert the text to uppercase\"\"\""
   ]
  },
  {
   "cell_type": "markdown",
   "id": "a5d86739",
   "metadata": {},
   "source": [
    "### Providing skills to the planner\n",
    "The planner needs to know what skills are available to it. Here we'll give it access to the `SummarizeSkill` and `WriterSkill` we have defined on disk. This will include many semantic functions, of which the planner will intelligently choose a subset. \n",
    "\n",
    "You can also include native functions as well. Here we'll add the TextSkill."
   ]
  },
  {
   "cell_type": "code",
   "execution_count": 4,
   "id": "ca0e7604",
   "metadata": {},
   "outputs": [],
   "source": [
    "from semantic_kernel.core_skills.text_skill import TextSkill\n",
    "\n",
    "skills_directory = \"../../samples/skills/\"\n",
    "summarize_skill = kernel.import_semantic_skill_from_directory(skills_directory, \"SummarizeSkill\")\n",
    "writer_skill = kernel.import_semantic_skill_from_directory(skills_directory, \"WriterSkill\")\n",
    "text_skill = kernel.import_skill(TextSkill(), \"TextSkill\")"
   ]
  },
  {
   "cell_type": "markdown",
   "id": "deff5675",
   "metadata": {},
   "source": [
    "Define your ASK. What do you want the Kernel to do?"
   ]
  },
  {
   "cell_type": "markdown",
   "id": "eee6fe7b",
   "metadata": {},
   "source": [
    "# Basic Planner"
   ]
  },
  {
   "cell_type": "markdown",
   "id": "590a22f2",
   "metadata": {},
   "source": [
    " Let's start by taking a look at a basic planner. The `BasicPlanner` produces a JSON-based plan that aims to solve the provided ask sequentially and evaluated in order."
   ]
  },
  {
   "cell_type": "code",
   "execution_count": 5,
   "id": "20d35ed0",
   "metadata": {},
   "outputs": [],
   "source": [
    "from semantic_kernel.planning.basic_planner import BasicPlanner\n",
    "planner = BasicPlanner()"
   ]
  },
  {
   "cell_type": "code",
   "execution_count": 6,
   "id": "d5697c09",
   "metadata": {},
   "outputs": [],
   "source": [
    "basic_plan = await planner.create_plan_async(ask, kernel)"
   ]
  },
  {
   "cell_type": "code",
   "execution_count": 7,
   "id": "b425ba1e",
   "metadata": {},
   "outputs": [
    {
     "name": "stdout",
     "output_type": "stream",
     "text": [
      "{\n",
      "    \"input\": \"Valentine's Day Date Ideas\",\n",
      "    \"subtasks\": [\n",
      "        {\"function\": \"WriterSkill.Brainstorm\"},\n",
      "        {\"function\": \"WriterSkill.EmailTo\", \"args\": {\"recipient\": \"significant_other\"}},\n",
      "        {\"function\": \"WriterSkill.Translate\", \"args\": {\"language\": \"French\"}},\n",
      "        {\"function\": \"TextSkill.uppercase\"}\n",
      "    ]\n",
      "}\n"
     ]
    }
   ],
   "source": [
    "print(basic_plan.generated_plan)"
   ]
  },
  {
   "cell_type": "markdown",
   "id": "0f3a48f8",
   "metadata": {},
   "source": [
    "You can see that the Planner took my ask and converted it into an JSON-based plan detailing how the AI would go about solving this task, making use of the skills that the Kernel has available to it.\n",
    "\n",
    "As you can see in the above plan, the AI has determined which functions to call in order to fulfill the user ask. The output of each step of the plan becomes the input to the next function."
   ]
  },
  {
   "cell_type": "markdown",
   "id": "cd4df0c2",
   "metadata": {},
   "source": [
    "Let's also define an inline skill and have it be available to the Planner. Be sure to give it a function name and skill name."
   ]
  },
  {
   "cell_type": "code",
   "execution_count": 8,
   "id": "54422ba6",
   "metadata": {},
   "outputs": [],
   "source": [
    "sk_prompt = \"\"\"\n",
    "{{$input}}\n",
    "\n",
    "Rewrite the above in the style of Shakespeare.\n",
    "\"\"\"\n",
    "shakespeareFunction = kernel.create_semantic_function(sk_prompt, \"shakespeare\", \"ShakespeareSkill\",\n",
    "                                                      max_tokens=2000, temperature=0.8)"
   ]
  },
  {
   "cell_type": "markdown",
   "id": "5057cf9b",
   "metadata": {},
   "source": [
    "Let's update our ask using this new skill"
   ]
  },
  {
   "cell_type": "code",
   "execution_count": 9,
   "id": "a3161dcf",
   "metadata": {},
   "outputs": [],
   "source": [
    "ask = \"\"\"\n",
    "Tomorrow is Valentine's day. I need to come up with a few date ideas.\n",
    "She likes Shakespeare so write using his style. She speaks French so write it in French.\n",
    "Convert the text to uppercase.\"\"\"\n",
    "\n",
    "new_plan = await planner.create_plan_async(ask, kernel)"
   ]
  },
  {
   "cell_type": "code",
   "execution_count": 10,
   "id": "997462e8",
   "metadata": {},
   "outputs": [
    {
     "name": "stdout",
     "output_type": "stream",
     "text": [
      "{\n",
      "    \"input\": \"Valentine's Day Date Ideas\",\n",
      "    \"subtasks\": [\n",
      "        {\"function\": \"WriterSkill.Brainstorm\"},\n",
      "        {\"function\": \"ShakespeareSkill.shakespeare\"},\n",
      "        {\"function\": \"WriterSkill.Translate\", \"args\": {\"language\": \"French\"}},\n",
      "        {\"function\": \"TextSkill.uppercase\"}\n",
      "    ]\n",
      "}\n"
     ]
    }
   ],
   "source": [
    "print(new_plan.generated_plan)"
   ]
  },
  {
   "cell_type": "markdown",
   "id": "b67a052e",
   "metadata": {},
   "source": [
    "### Executing the plan"
   ]
  },
  {
   "cell_type": "markdown",
   "id": "3b839c90",
   "metadata": {},
   "source": [
    "Now that we have a plan, let's try to execute it! The Planner has a function called `execute_plan`."
   ]
  },
  {
   "cell_type": "code",
   "execution_count": 11,
   "id": "9384831a",
   "metadata": {},
   "outputs": [],
   "source": [
    "results = await planner.execute_plan_async(new_plan, kernel)"
   ]
  },
  {
   "cell_type": "code",
   "execution_count": 12,
   "id": "9192b186",
   "metadata": {},
   "outputs": [
    {
     "name": "stdout",
     "output_type": "stream",
     "text": [
      "ASSUREZ-VOUS D'UTILISER UNIQUEMENT LE FRANÇAIS.\n",
      "\n",
      "1. UN FESTIN PITTORESQUE DE FLAMMES VACILLANTES, MON AMOUR,\n",
      "   AU SEIN DES MURS DE NOTRE HUMBLE DEMEURE.\n",
      "2. UN PIQUE-NIQUE DANS LE PARC VERDOYANT, CHER CŒUR,\n",
      "   OÙ LA GÉNÉROSITÉ DE LA NATURE SERA NOTRE BANQUET.\n",
      "3. UNE JOURNÉE DE REPOS PARTAGÉ AU SPA, BELLE ÂME,\n",
      "   POUR FAIRE FONDRE NOS SOUCIS ET NOURRIR NOS ESPRITS.\n",
      "4. UNE DÉGUSTATION DU NECTAR DE LA VIGNE,\n",
      "   PARMI LES VIGNES DE CE ROYAUME LOCAL.\n",
      "5. ENSEMBLE, PARCOURONS UN CHEMIN PITTORESQUE,\n",
      "   ET BUVONS LA BEAUTÉ QUE NOTRE TERRE OFFRE.\n",
      "6. PRÈS DE LA CHEMINÉE, CRÉONS UN REPAS,\n",
      "   ENLACÉS DANS L'AMOUR ET LE DÉLICE CULINAIRE.\n",
      "7. S'ÉMERVEILLER DEVANT UNE GRANDE PERFORMANCE EN DIRECT,\n",
      "   ET SE PERDRE DANS L'ÉTREINTE DE L'ART.\n",
      "8. UNE NUIT DE CINÉMA, AVEC DES RÉCITS AMOUREUX,\n",
      "   QUI ÉVEILLENT NOS CŒURS ET ENFLAMMENT NOS RÊVES.\n",
      "9. ENSEMBLE, APPRENONS L'ART DE LA DANSE,\n",
      "   ET GLISSONS SUR LE SOL DANS LA PLUS DOUCE DES RYTHMES.\n",
      "10. UNE ESCAPADE D'UN WEEK-END DANS UN CHALET DOUILLET,\n",
      "    OÙ LE FEU DE L'AMOUR NOUS RÉCHAUFFERA TOUTE LA NUIT.\n"
     ]
    }
   ],
   "source": [
    "print(results)"
   ]
  },
  {
   "cell_type": "markdown",
   "id": "e8a9b6b7",
   "metadata": {},
   "source": [
    "# The Plan Object Model"
   ]
  },
  {
   "cell_type": "markdown",
   "id": "e50f8859",
   "metadata": {},
   "source": [
    "To build more advanced planners, we need to introduce a proper Plan object that can contain all the necessary state and information needed for high quality plans.\n",
    "\n",
    "To see what that object model is, look at (https://github.com/microsoft/semantic-kernel/blob/main/python/semantic_kernel/planning/plan.py)"
   ]
  },
  {
   "cell_type": "markdown",
   "id": "0a0cb2a2",
   "metadata": {},
   "source": [
    "# Sequential Planner"
   ]
  },
  {
   "cell_type": "markdown",
   "id": "a1c66d83",
   "metadata": {},
   "source": [
    "The sequential planner is an XML-based step-by-step planner. You can see the prompt used for it here (https://github.com/microsoft/semantic-kernel/blob/main/python/semantic_kernel/planning/sequential_planner/Skills/SequentialPlanning/skprompt.txt)"
   ]
  },
  {
   "cell_type": "code",
   "execution_count": 13,
   "id": "e2e90624",
   "metadata": {},
   "outputs": [],
   "source": [
    "from semantic_kernel.planning import SequentialPlanner\n",
    "planner = SequentialPlanner(kernel)"
   ]
  },
  {
   "cell_type": "code",
   "execution_count": null,
   "id": "0d537981",
   "metadata": {},
   "outputs": [],
   "source": [
    "sequential_plan = await planner.create_plan_async(goal=ask)"
   ]
  },
  {
   "cell_type": "markdown",
   "id": "ee2f462b",
   "metadata": {},
   "source": [
    "To see the steps that the Sequential Planner will take, we can iterate over them and print their descriptions"
   ]
  },
  {
   "cell_type": "code",
   "execution_count": null,
   "id": "e7007418",
   "metadata": {},
   "outputs": [],
   "source": [
    "for step in sequential_plan._steps:\n",
    "    print(step.description, \":\", step._state.__dict__)"
   ]
  },
  {
   "cell_type": "markdown",
   "id": "4db5f844",
   "metadata": {},
   "source": [
    "Let's ask the sequential planner to execute the plan."
   ]
  },
  {
   "cell_type": "code",
   "execution_count": null,
   "id": "88411884",
   "metadata": {},
   "outputs": [],
   "source": [
    "result = await sequential_plan.invoke_async()"
   ]
  },
  {
   "cell_type": "code",
   "execution_count": null,
   "id": "36d27aa0",
   "metadata": {},
   "outputs": [],
   "source": [
    "print(result)"
   ]
  },
  {
   "cell_type": "markdown",
   "id": "d6487c75",
   "metadata": {},
   "source": [
    "# Action Planner"
   ]
  },
  {
   "cell_type": "markdown",
   "id": "b045e26b",
   "metadata": {},
   "source": [
    "The action planner takes in a list of functions and the goal, and outputs a **single** function to use that is appropriate to meet that goal."
   ]
  },
  {
   "cell_type": "code",
   "execution_count": 2,
   "id": "5bfc0b9f",
   "metadata": {},
   "outputs": [],
   "source": [
    "from semantic_kernel.planning import ActionPlanner\n",
    "planner = ActionPlanner(kernel)"
   ]
  },
  {
   "cell_type": "markdown",
   "id": "53b1f296",
   "metadata": {},
   "source": [
    "Let's add more skills to the kernel"
   ]
  },
  {
   "cell_type": "code",
   "execution_count": 3,
   "id": "cc12642a",
   "metadata": {},
   "outputs": [
    {
     "data": {
      "text/plain": [
       "{'lowercase': <semantic_kernel.orchestration.sk_function.SKFunction at 0x1240dbb10>,\n",
       " 'trim': <semantic_kernel.orchestration.sk_function.SKFunction at 0x1240dbe90>,\n",
       " 'trim_end': <semantic_kernel.orchestration.sk_function.SKFunction at 0x1240e4250>,\n",
       " 'trim_start': <semantic_kernel.orchestration.sk_function.SKFunction at 0x1240e45d0>,\n",
       " 'uppercase': <semantic_kernel.orchestration.sk_function.SKFunction at 0x1240e4950>}"
      ]
     },
     "execution_count": 3,
     "metadata": {},
     "output_type": "execute_result"
    }
   ],
   "source": [
    "from semantic_kernel.core_skills import FileIOSkill, MathSkill, TextSkill, TimeSkill\n",
    "kernel.import_skill(MathSkill(), \"math\")\n",
    "kernel.import_skill(FileIOSkill(), \"fileIO\")\n",
    "kernel.import_skill(TimeSkill(), \"time\")\n",
    "kernel.import_skill(TextSkill(), \"text\")"
   ]
  },
  {
   "cell_type": "code",
   "execution_count": 18,
   "id": "b938dc0e",
   "metadata": {},
   "outputs": [],
   "source": [
    "ask = \"What is the sum of 110 and 990?\""
   ]
  },
  {
   "cell_type": "code",
   "execution_count": 19,
   "id": "3aafd268",
   "metadata": {},
   "outputs": [],
   "source": [
    "plan = await planner.create_plan_async(goal=ask)"
   ]
  },
  {
   "cell_type": "code",
   "execution_count": 38,
   "id": "42589835",
   "metadata": {},
   "outputs": [],
   "source": [
    "result = await plan.invoke_async()"
   ]
  },
  {
   "cell_type": "code",
   "execution_count": 39,
   "id": "dc75e7a9",
   "metadata": {},
   "outputs": [
    {
     "name": "stdout",
     "output_type": "stream",
     "text": [
      "1100\n"
     ]
    }
   ],
   "source": [
    "print(result)"
   ]
  },
  {
   "cell_type": "markdown",
   "id": "789b651a",
   "metadata": {},
   "source": [
    "# Stepwise Planner"
   ]
  },
  {
   "cell_type": "markdown",
   "id": "8a4bbcc3",
   "metadata": {},
   "source": [
    "Stepwise Planner is based off the paper from MRKL (Modular Reasoning, Knowledge and Language) and is similar to other papers like ReACT (Reasoning and Acting in Language Models). At the core, the stepwise planner allows for the AI to form \"thoughts\" and \"observations\" and execute actions based off those to achieve a user's goal. This continues until all required functions are complete and a final output is generated.\n",
    "\n",
    "See a video walkthrough of Stepwise Planner [here.](https://youtu.be/DG_Ge1v0c4Q?si=T1CHaAm1vV0mWRHu)"
   ]
  },
  {
   "cell_type": "code",
   "execution_count": 4,
   "id": "32839327",
   "metadata": {},
   "outputs": [],
   "source": [
    "from semantic_kernel.planning import StepwisePlanner\n",
    "from semantic_kernel.planning.stepwise_planner.stepwise_planner_config import (\n",
    "    StepwisePlannerConfig,\n",
    ")"
   ]
  },
  {
   "cell_type": "markdown",
   "id": "e0a00bde",
   "metadata": {},
   "source": [
    "Let's create a Bing Search native skill that we can pass in to the Kernel.\n",
    "\n",
    "Make sure you have a Bing Search API key in your `.env` file\n",
    "\n",
    "(https://www.microsoft.com/en-us/bing/apis/bing-web-search-api)"
   ]
  },
  {
   "cell_type": "code",
   "execution_count": 5,
   "id": "92fc5de8",
   "metadata": {},
   "outputs": [],
   "source": [
    "class WebSearchEngineSkill:\n",
    "    \"\"\"\n",
    "    A search engine skill.\n",
    "    \"\"\"\n",
    "    from semantic_kernel.orchestration.sk_context import SKContext\n",
    "    from semantic_kernel.skill_definition import sk_function, sk_function_context_parameter\n",
    "\n",
    "    def __init__(self, connector) -> None:\n",
    "        self._connector = connector\n",
    "\n",
    "    @sk_function(\n",
    "        description=\"Performs a web search for a given query\", name=\"searchAsync\"\n",
    "    )\n",
    "    @sk_function_context_parameter(\n",
    "        name=\"query\",\n",
    "        description=\"The search query\",\n",
    "    )\n",
    "    async def search_async(self, query: str, context: SKContext) -> str:\n",
    "        query = query or context.variables.get(\"query\")[1]\n",
    "        result = await self._connector.search_async(query, num_results=5, offset=0)\n",
    "        return str(result)"
   ]
  },
  {
   "cell_type": "code",
   "execution_count": 6,
   "id": "415f7876",
   "metadata": {},
   "outputs": [
    {
     "data": {
      "text/plain": [
       "{'searchAsync': <semantic_kernel.orchestration.sk_function.SKFunction at 0x1240f3c10>}"
      ]
     },
     "execution_count": 6,
     "metadata": {},
     "output_type": "execute_result"
    }
   ],
   "source": [
    "from semantic_kernel.connectors.search_engine import BingConnector\n",
    "\n",
    "BING_API_KEY = sk.bing_search_settings_from_dot_env()\n",
    "connector = BingConnector(BING_API_KEY)\n",
    "kernel.import_skill(WebSearchEngineSkill(connector), skill_name=\"WebSearch\")"
   ]
  },
  {
   "cell_type": "markdown",
   "id": "effdf3ab",
   "metadata": {},
   "source": [
    "Let's also add a couple more skills"
   ]
  },
  {
   "cell_type": "code",
   "execution_count": 8,
   "id": "abe150e0",
   "metadata": {},
   "outputs": [
    {
     "data": {
      "text/plain": [
       "{'Add': <semantic_kernel.orchestration.sk_function.SKFunction at 0x1240f35d0>,\n",
       " 'Subtract': <semantic_kernel.orchestration.sk_function.SKFunction at 0x1240fed90>}"
      ]
     },
     "execution_count": 8,
     "metadata": {},
     "output_type": "execute_result"
    }
   ],
   "source": [
    "from semantic_kernel.core_skills.math_skill import MathSkill\n",
    "from semantic_kernel.core_skills.time_skill import TimeSkill\n",
    "\n",
    "kernel.import_skill(TimeSkill(), \"time\")\n",
    "kernel.import_skill(MathSkill(), \"math\")"
   ]
  },
  {
   "cell_type": "code",
   "execution_count": 10,
   "id": "06d08549",
   "metadata": {},
   "outputs": [],
   "source": [
    "planner = StepwisePlanner(\n",
    "    kernel, StepwisePlannerConfig(max_iterations=10, min_iteration_time_ms=1000)\n",
    ")"
   ]
  },
  {
   "cell_type": "markdown",
   "id": "50699ec3",
   "metadata": {},
   "source": [
    "Now let's do a more complicated ask that will require planner to make a call to Bing to get the latest information."
   ]
  },
  {
   "cell_type": "code",
   "execution_count": 11,
   "id": "596ade21",
   "metadata": {},
   "outputs": [],
   "source": [
    "ask = \"\"\"How many total championships combined do the top 5 teams in the NBA have?\"\"\"\n",
    "\n",
    "plan = planner.create_plan(goal=ask)"
   ]
  },
  {
   "cell_type": "code",
   "execution_count": 18,
   "id": "3cfdb145",
   "metadata": {},
   "outputs": [
    {
     "data": {
      "text/plain": [
       "\"WebSearch.searchAsync: Performs a web search for a given query\\n  inputs:\\n    - query: The search query\\n\\nfileIO.readAsync: Read a file\\n  inputs:\\n    - input: Path of the source file\\n\\nfileIO.writeAsync: Write a file\\n  inputs:\\n    - content: File content\\n    - path: Destination path\\n\\nmath.Add: Adds value to a value\\n  inputs:\\n    - input: The value to add\\n    - Amount: Amount to add\\n\\nmath.Subtract: Subtracts value to a value\\n  inputs:\\n    - input: The value to subtract\\n    - Amount: Amount to subtract\\n\\ntext.lowercase: Convert a string to lowercase.\\n  inputs: None\\n\\ntext.trim: Trim whitespace from the start and end of a string.\\n  inputs: None\\n\\ntext.trim_end: Trim whitespace from the end of a string.\\n  inputs: None\\n\\ntext.trim_start: Trim whitespace from the start of a string.\\n  inputs: None\\n\\ntext.uppercase: Convert a string to uppercase.\\n  inputs: None\\n\\nthis.EdgeCaseExamples: List a few edge case examples of plans to handle\\n  inputs:\\n    - goal: The current goal processed by the planner\\n\\nthis.GoodExamples: List a few good examples of plans to generate\\n  inputs:\\n    - goal: The current goal processed by the planner\\n\\nthis.ListOfFunctions: List all functions available in the kernel\\n  inputs:\\n    - goal: The current goal processed by the planner\\n\\nthis.f_6587b345_f318_401e_a57a_243669c90347: Generic function, unknown purpose\\n  inputs:\\n    - input: \\n\\ntime.date: Get the current date.\\n  inputs: None\\n\\ntime.date_matching_last_day_name: Get the date of the last day matching the supplied week day name in English.\\n        Example: Che giorno era 'Martedi' scorso -> dateMatchingLastDayName 'Tuesday' => Tuesday,\\n        16 May, 2023\\n  inputs: None\\n\\ntime.day: Get the current day\\n  inputs: None\\n\\ntime.dayOfWeek: Get the current day of the week\\n  inputs: None\\n\\ntime.days_ago: Get the date of offset from today by a provided number of days\\n  inputs: None\\n\\ntime.hour: Get the current hour\\n  inputs: None\\n\\ntime.hourNumber: Get the current hour number\\n  inputs: None\\n\\ntime.iso_date: Get the current date in iso format.\\n  inputs: None\\n\\ntime.minute: Get the current minute\\n  inputs: None\\n\\ntime.month: Get the current month\\n  inputs: None\\n\\ntime.month_number: Get the current month number\\n  inputs: None\\n\\ntime.now: Get the current date and time in the local time zone\\n  inputs: None\\n\\ntime.second: Get the seconds on the current minute\\n  inputs: None\\n\\ntime.time: Get the current time in the local time zone\\n  inputs: None\\n\\ntime.timeZoneName: Get the current time zone name\\n  inputs: None\\n\\ntime.timeZoneOffset: Get the current time zone offset\\n  inputs: None\\n\\ntime.today: Get the current date.\\n  inputs: None\\n\\ntime.utcNow: Get the current date and time in UTC\\n  inputs: None\\n\\ntime.year: Get the current year\\n  inputs: None\\n\""
      ]
     },
     "execution_count": 18,
     "metadata": {},
     "output_type": "execute_result"
    }
   ],
   "source": [
    "functions = planner.get_function_descriptions()\n",
    "functions"
   ]
  },
  {
   "cell_type": "code",
   "execution_count": 19,
   "id": "176988ac",
   "metadata": {},
   "outputs": [
    {
     "name": "stdout",
     "output_type": "stream",
     "text": [
      "Result not found, review _steps_taken to see what happened.\n",
      "[\n",
      "    {\n",
      "        \"thought\": \"To determine the total number of championships combined for the top 5 teams in the NBA, we need to gather information about the number of championships each team has won. We can then sum up the total number of championships for the top 5 teams.\\n\\n[QUESTION]\\nHow can we gather information about the number of championships each team has won?\",\n",
      "        \"action\": null,\n",
      "        \"action_variables\": {},\n",
      "        \"observation\": null,\n",
      "        \"final_answer\": null,\n",
      "        \"original_response\": \"[THOUGHT]\\nTo determine the total number of championships combined for the top 5 teams in the NBA, we need to gather information about the number of championships each team has won. We can then sum up the total number of championships for the top 5 teams.\\n\\n[QUESTION]\\nHow can we gather information about the number of championships each team has won?\"\n",
      "    },\n",
      "    {\n",
      "        \"thought\": \"We can search for the number of championships won by each team using a web search. We can search for each team individually and extract the relevant information from the search results.\",\n",
      "        \"action\": \"WebSearch.searchAsync\",\n",
      "        \"action_variables\": {\n",
      "            \"query\": \"number of championships won by [team name]\"\n",
      "        },\n",
      "        \"observation\": \"['22 clubs have won the UEFA Champions League/European Cup. Check out the full list, how many titles each side has and who they beat in the final(s).', 'Professional Sports Most Champions League titles 1955-2023, by club Published by Statista Research Department , Aug 30, 2023 As of 2023, Real Madrid had won the UEFA Champions League (UCL)...', 'England has the largest number of winning teams, with six clubs having won the title. The competition has been won by 23 clubs, 13 of which have won it more than once, and eight successfully defended their title. [8]', 'The column for each competition wikilinks to the article about those finals. By country Spanish clubs are the most successful in UEFA competitions, with a total of 65 titles, and hold a record number of wins in the European Cup/UEFA Champions League (19), UEFA Super Cup (16), and UEFA Cup/UEFA Europa League (14). [10]']\",\n",
      "        \"final_answer\": null,\n",
      "        \"original_response\": \"[THOUGHT]\\nWe can search for the number of championships won by each team using a web search. We can search for each team individually and extract the relevant information from the search results.\\n\\n[ACTION]\\n{\\n  \\\"action\\\": \\\"WebSearch.searchAsync\\\",\\n  \\\"action_variables\\\": {\\n    \\\"query\\\": \\\"number of championships won by [team name]\\\"\\n  }\\n}\"\n",
      "    },\n",
      "    {\n",
      "        \"thought\": \"The search results do not provide the specific information we need about the number of championships won by each team in the NBA. We need to refine our search query to get more accurate results.\",\n",
      "        \"action\": \"WebSearch.searchAsync\",\n",
      "        \"action_variables\": {\n",
      "            \"query\": \"number of NBA championships won by [team name]\"\n",
      "        },\n",
      "        \"observation\": \"['[better source needed] The Boston Celtics and the Minneapolis/Los Angeles Lakers have won a combined total of 34 NBA championships, with 17 apiece in their rivalry. As of 2023 [update] , the defending champions are the Denver Nuggets .', \\\"Last season, the Warriors won the franchise's seventh title, defeating the Celtics in the 2022 NBA Finals and breaking a tie with the Bulls (6) for sole possession of third place on the...\\\", 'Research expert covering sports and video gaming Get in touch with us now , Jul 28, 2023 Having defeated Miami Heat 4-2 in the 2020 NBA Finals, the Los Angeles Lakers clinched their 17th NBA...', 'Only five teams have managed to win more than three championships: The Boston Celtics, Los Angeles Lakers, Chicago Bulls, San Antonio Spurs, and Golden State Warriors. In fact, these franchises have alone claimed nearly 70 percent of all titles.']\",\n",
      "        \"final_answer\": null,\n",
      "        \"original_response\": \"[THOUGHT]\\nThe search results do not provide the specific information we need about the number of championships won by each team in the NBA. We need to refine our search query to get more accurate results.\\n[ACTION]\\n{\\\"action\\\": \\\"WebSearch.searchAsync\\\", \\\"action_variables\\\": {\\\"query\\\": \\\"number of NBA championships won by [team name]\\\"}}\"\n",
      "    },\n",
      "    {\n",
      "        \"thought\": \"The search results provide the information we need. We can see that the Boston Celtics and the Los Angeles Lakers have won a combined total of 34 NBA championships, with 17 championships each. Additionally, the search results mention that only five teams have managed to win more than three championships: the Boston Celtics, Los Angeles Lakers, Chicago Bulls, San Antonio Spurs, and Golden State Warriors. We can use this information to determine the total number of championships won by the top 5 teams in the NBA.\",\n",
      "        \"action\": null,\n",
      "        \"action_variables\": {},\n",
      "        \"observation\": null,\n",
      "        \"final_answer\": null,\n",
      "        \"original_response\": \"[THOUGHT]\\nThe search results provide the information we need. We can see that the Boston Celtics and the Los Angeles Lakers have won a combined total of 34 NBA championships, with 17 championships each. Additionally, the search results mention that only five teams have managed to win more than three championships: the Boston Celtics, Los Angeles Lakers, Chicago Bulls, San Antonio Spurs, and Golden State Warriors. We can use this information to determine the total number of championships won by the top 5 teams in the NBA.\"\n",
      "    },\n",
      "    {\n",
      "        \"thought\": \"To determine the total number of championships won by the top 5 teams in the NBA, we need to add up the number of championships won by each team. We know that the Boston Celtics and the Los Angeles Lakers have each won 17 championships. We also know that the Chicago Bulls, San Antonio Spurs, and Golden State Warriors have each won more than three championships. However, we don't have the exact number of championships for these three teams. We need to search for the number of championships won by the Chicago Bulls, San Antonio Spurs, and Golden State Warriors individually.\",\n",
      "        \"action\": \"WebSearch.searchAsync\",\n",
      "        \"action_variables\": {\n",
      "            \"query\": \"number of NBA championships won by Chicago Bulls\"\n",
      "        },\n",
      "        \"observation\": \"[\\\"Michael Jordan won 6 championships with the Chicago Bulls. The Bulls' luck turned for the better after selecting Michael Jordan with the third overall pick in the 1984 NBA draft. [6]\\\", 'The Bulls are the only NBA franchise to win multiple championships while never losing an NBA Finals series in their history. The Bulls won 72 games during the 1995\\u201396 season, setting an NBA record that stood until the Golden State Warriors won 73 games during the 2015\\u201316 season. The Bulls were the first team in NBA history to win 70 games ...', 'Chicago Bulls are notable for having one of the NBA\\u2019s greatest dynasties, winning six NBA championships and two three-peats between 1991 and 1998. Hall of Famers Michael Jordan, Scottie Pippen, and coach Phil Jackson led all those six championships to teams.', 'Chicago Bulls have won 6 championships! Chicago Bulls won championships in: 1991, 1992, 1993, 1996, 1997, 1998', '1974-76: Stifling Defense Helps Chicago Win Division After four straight 50-win seasons the Bulls fell to 47-35 in 1974-75 but still captured first place in the Midwest Division.']\",\n",
      "        \"final_answer\": null,\n",
      "        \"original_response\": \"[THOUGHT]\\nTo determine the total number of championships won by the top 5 teams in the NBA, we need to add up the number of championships won by each team. We know that the Boston Celtics and the Los Angeles Lakers have each won 17 championships. We also know that the Chicago Bulls, San Antonio Spurs, and Golden State Warriors have each won more than three championships. However, we don't have the exact number of championships for these three teams. We need to search for the number of championships won by the Chicago Bulls, San Antonio Spurs, and Golden State Warriors individually.\\n[ACTION]\\n{\\\"action\\\": \\\"WebSearch.searchAsync\\\", \\\"action_variables\\\": {\\\"query\\\": \\\"number of NBA championships won by Chicago Bulls\\\"}}\"\n",
      "    },\n",
      "    {\n",
      "        \"thought\": \"The search results provide the information we need. The Chicago Bulls have won 6 NBA championships. We can now determine the total number of championships won by the top 5 teams in the NBA.\",\n",
      "        \"action\": null,\n",
      "        \"action_variables\": {},\n",
      "        \"observation\": null,\n",
      "        \"final_answer\": null,\n",
      "        \"original_response\": \"[THOUGHT]\\nThe search results provide the information we need. The Chicago Bulls have won 6 NBA championships. We can now determine the total number of championships won by the top 5 teams in the NBA.\"\n",
      "    },\n",
      "    {\n",
      "        \"thought\": \"To determine the total number of championships won by the top 5 teams in the NBA, we need to add up the number of championships won by each team. We know that the Boston Celtics and the Los Angeles Lakers have each won 17 championships, and the Chicago Bulls have won 6 championships. We still need to find the number of championships won by the San Antonio Spurs and the Golden State Warriors.\",\n",
      "        \"action\": \"WebSearch.searchAsync\",\n",
      "        \"action_variables\": {\n",
      "            \"query\": \"number of NBA championships won by San Antonio Spurs\"\n",
      "        },\n",
      "        \"observation\": \"['In 45 seasons since joining the NBA, the Spurs have achieved a winning record 36 times, have appeared in the NBA playoffs 38 times, and have won five NBA championships. The team won its most recent NBA championship in 2014.', 'Despite their regular-season success, the Spurs were unable to win any NBA championships, losing in the Western Conference playoffs to the Houston Rockets in the first round of the 1981 and the Los Angeles Lakers in four games in 1982 and in six games in the 1983 Western Finals despite getting both wins at the Forum in the 1983 series. They ...', 'San Antonio Spurs. Location: San Antonio, Texas Team Names: San Antonio Spurs, Texas Chaparrals, Dallas Chaparrals Seasons: 57 (48 NBA & 9 ABA); 1967-68 to 2023-24 Record: 2661-1868, .588 W-L% (2283-1502 NBA & 378-366 ABA) Playoff Appearances: 47 (39 NBA & 8 ABA) Championships: 5 (5 NBA & 0 ABA) More Franchise Info', 'The Spurs won five National Basketball Association (NBA) championships (1999, 2003, 2005, 2007, and 2014) during one of the most dominant stretches in NBA history. The team started out as the Dallas Chaparrals in the American Basketball Association (ABA).']\",\n",
      "        \"final_answer\": null,\n",
      "        \"original_response\": \"[THOUGHT]\\nTo determine the total number of championships won by the top 5 teams in the NBA, we need to add up the number of championships won by each team. We know that the Boston Celtics and the Los Angeles Lakers have each won 17 championships, and the Chicago Bulls have won 6 championships. We still need to find the number of championships won by the San Antonio Spurs and the Golden State Warriors.\\n[ACTION]\\n{\\\"action\\\": \\\"WebSearch.searchAsync\\\", \\\"action_variables\\\": {\\\"query\\\": \\\"number of NBA championships won by San Antonio Spurs\\\"}}\"\n",
      "    },\n",
      "    {\n",
      "        \"thought\": \"The search results provide the information we need. The San Antonio Spurs have won 5 NBA championships. We can now determine the total number of championships won by the top 5 teams in the NBA.\",\n",
      "        \"action\": null,\n",
      "        \"action_variables\": {},\n",
      "        \"observation\": null,\n",
      "        \"final_answer\": null,\n",
      "        \"original_response\": \"[THOUGHT]\\nThe search results provide the information we need. The San Antonio Spurs have won 5 NBA championships. We can now determine the total number of championships won by the top 5 teams in the NBA.\"\n",
      "    },\n",
      "    {\n",
      "        \"thought\": \"To determine the total number of championships won by the top 5 teams in the NBA, we need to add up the number of championships won by each team. We know that the Boston Celtics and the Los Angeles Lakers have each won 17 championships, the Chicago Bulls have won 6 championships, and the San Antonio Spurs have won 5 championships. We still need to find the number of championships won by the Golden State Warriors.\",\n",
      "        \"action\": \"WebSearch.searchAsync\",\n",
      "        \"action_variables\": {\n",
      "            \"query\": \"number of NBA championships won by Golden State Warriors\"\n",
      "        },\n",
      "        \"observation\": \"['The Warriors have won six NBA championships, with their most recent title coming in 2018. Only two NBA franchises have won more NBA championships than the Warriors. Warriors...', 'The Warriors have now won seven NBA championships, with their most recent title, before this one, coming in 2018. Only two NBA teams have won more championships than the Warriors....', 'The Warriors returned to the NBA Finals for the first time since that 1975 championship following the 2014-15 season. Led by Stephen Curry, who won the first of consecutive NBA MVP awards that season, Golden State won a then-franchise record 67 games, winning the Western Conference by 11 games.', 'Golden State also won 28 consecutive regular-season games dating back to the 2014\\u201315 season, eclipsing the 2012\\u201313 Miami Heat for the second longest winning streak in NBA history. The team set an NBA record with 54 consecutive regular-season home wins, which spanned from January 31, 2015, to March 29, 2016; the previous record of 44 was ...']\",\n",
      "        \"final_answer\": null,\n",
      "        \"original_response\": \"[THOUGHT]\\nTo determine the total number of championships won by the top 5 teams in the NBA, we need to add up the number of championships won by each team. We know that the Boston Celtics and the Los Angeles Lakers have each won 17 championships, the Chicago Bulls have won 6 championships, and the San Antonio Spurs have won 5 championships. We still need to find the number of championships won by the Golden State Warriors.\\n[ACTION]\\n{\\\"action\\\": \\\"WebSearch.searchAsync\\\", \\\"action_variables\\\": {\\\"query\\\": \\\"number of NBA championships won by Golden State Warriors\\\"}}\"\n",
      "    },\n",
      "    {\n",
      "        \"thought\": \"The search results provide the information we need. The Golden State Warriors have won 6 NBA championships. We now have the number of championships won by each of the top 5 teams in the NBA.\",\n",
      "        \"action\": null,\n",
      "        \"action_variables\": {},\n",
      "        \"observation\": null,\n",
      "        \"final_answer\": null,\n",
      "        \"original_response\": \"[THOUGHT]\\nThe search results provide the information we need. The Golden State Warriors have won 6 NBA championships. We now have the number of championships won by each of the top 5 teams in the NBA.\"\n",
      "    }\n",
      "]\n"
     ]
    }
   ],
   "source": [
    "result = await plan.invoke_async()\n",
    "print(result)"
   ]
  },
  {
   "cell_type": "code",
   "execution_count": 50,
   "id": "d00c6f71",
   "metadata": {},
   "outputs": [
    {
     "name": "stdout",
     "output_type": "stream",
     "text": [
      "The top 5 teams in the NBA have a combined total of 34 championships.\n"
     ]
    }
   ],
   "source": [
    "print(result)"
   ]
  },
  {
   "cell_type": "markdown",
   "id": "cb40370d",
   "metadata": {},
   "source": [
    "Let's see the steps that the AI took to get to the answer."
   ]
  },
  {
   "cell_type": "code",
   "execution_count": 51,
   "id": "7159ca1b",
   "metadata": {},
   "outputs": [
    {
     "name": "stdout",
     "output_type": "stream",
     "text": [
      "Step: 0\n",
      "Description: Execute a plan\n",
      "Function: StepwisePlanner.ExecutePlan\n",
      "  Output:\n",
      " This was my previous work (but they haven't seen any of it! They only see what I return as final answer):\n",
      "  [THOUGHT]\n",
      "  To answer this question, we need to determine the top 5 teams in the NBA and find out the total number of championships they have won. We can do this by gathering information about the teams and their championship records.\n",
      "  [THOUGHT]\n",
      "  [ACTION]\n",
      "  {\n",
      "    \"action\": \"WebSearch.searchAsync\",\n",
      "    \"action_variables\": {\n",
      "      \"query\": \"top 5 teams in the NBA\"\n",
      "    }\n",
      "  }\n",
      "  [ACTION]\n",
      "  {\"action\": \"WebSearch.searchAsync\", \"action_variables\": {\"query\": \"top 5 teams in the NBA\"}}\n",
      "  [OBSERVATION]\n",
      "  ['Teams of the Week Make It Last Forever: Atlanta (4-0) — A little defense can go a long way. Something Just Ain’t Right: Sacramento (0-2) — A new record for the longest playoff drought in NBA...', 'Breaking down stats and film on what Kevin Durant, Kyrie Irving, Russell Westbrook and others have brought to their new teams. March 9, 2023 Power Rankings: Bucks at No. 1; Knicks, Nuggets rise...', 'Power Rankings, Week 3: Heat, Knicks and Bulls surge into Top 5. See where all 30 teams rank after the first two weeks of the 2021-22 season. John Schuhmann. Archive. November 1, 2021 8:54 AM ...', 'Visit ESPN for the complete 2022-23 NBA season standings. Includes league, conference and division standings for regular season and playoffs. Skip to main content Skip to navigation']\n",
      "  [THOUGHT]\n",
      "  The search results do not provide the information we need about the top 5 teams in the NBA. We should try a different approach to gather this information.\n",
      "  [ACTION]\n",
      "  {\"action\": \"WebSearch.searchAsync\", \"action_variables\": {\"query\": \"NBA teams with most championships\"}}\n",
      "  [OBSERVATION]\n",
      "  [\"The Lakers and Celtics have combined to win 34 of the NBA's 76 championships. Which NBA team ...\", 'Golden State Warriors Have Won last time In 2022. Three franchises did it by playing for different ...', 'As of 2023, the Eastern champions have a 40–37 advantage in NBA titles over the Western champions, with their most recent being the Milwaukee Bucks in 2021. [better source needed] The Boston Celtics and the Minneapolis/Los Angeles Lakers have won a combined total of 34 NBA championships, with 17 apiece in their rivalry.', 'NBA Team with the most Championships. By winning the 2019-2020 NBA Championship, the Los ...']\n",
      "  [THOUGHT]\n",
      "  The search results provide the information we need. The Los Angeles Lakers and the Boston Celtics have won the most championships in the NBA, with 17 championships each. We need to find the total number of championships won by the top 5 teams in the NBA.\n",
      "  [ACTION]\n",
      "  {\"action\": \"math.Add\", \"action_variables\": {\"input\": \"17\", \"Amount\": \"17\"}}\n",
      "  [OBSERVATION]\n",
      "  34\n",
      "  [THOUGHT]\n",
      "  None\n"
     ]
    }
   ],
   "source": [
    "for index, step in enumerate(plan._steps):\n",
    "    print(\"Step:\", index)\n",
    "    print(\"Description:\",step.description)\n",
    "    print(\"Function:\", step.skill_name + \".\" + step._function.name)\n",
    "    if len(step._outputs) > 0:\n",
    "        print( \"  Output:\\n\", str.replace(result[step._outputs[0]],\"\\n\", \"\\n  \"))"
   ]
  }
 ],
 "metadata": {
  "kernelspec": {
   "display_name": "Python 3 (ipykernel)",
   "language": "python",
   "name": "python3"
  },
  "language_info": {
   "codemirror_mode": {
    "name": "ipython",
    "version": 3
   },
   "file_extension": ".py",
   "mimetype": "text/x-python",
   "name": "python",
   "nbconvert_exporter": "python",
   "pygments_lexer": "ipython3",
   "version": "3.11.4"
  }
 },
 "nbformat": 4,
 "nbformat_minor": 5
}
