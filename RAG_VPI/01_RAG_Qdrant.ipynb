{
 "cells": [
  {
   "cell_type": "markdown",
   "metadata": {},
   "source": [
    "#### 1. Load the data and libraries"
   ]
  },
  {
   "cell_type": "code",
   "execution_count": 1,
   "metadata": {},
   "outputs": [
    {
     "data": {
      "text/plain": [
       "True"
      ]
     },
     "execution_count": 1,
     "metadata": {},
     "output_type": "execute_result"
    }
   ],
   "source": [
    "import os\n",
    "from vpirag import *\n",
    "from dotenv import load_dotenv\n",
    "from llama_index.llms import OpenAI\n",
    "from llama_index.llms import AzureOpenAI\n",
    "from llama_index.embeddings import OpenAIEmbedding\n",
    "\n",
    "load_dotenv()"
   ]
  },
  {
   "cell_type": "code",
   "execution_count": 2,
   "metadata": {},
   "outputs": [],
   "source": [
    "# Set OpenAI API key\n",
    "# openai.api_key = os.environ['OPENAI_API_KEY']\n",
    "# Set Qdrant API key\n",
    "qdrant_url = os.environ['QDRANT_URL']\n",
    "qdrant_api_key = os.environ['QDRANT_API_KEY']\n",
    "qdrant_collection = os.environ['QDRANT_COLLECTION_NAME']\n",
    "# Set Azure OpenAI API key\n",
    "openai.api_type = 'azure'\n",
    "openai.api_key = os.environ['AZURE_OPENAI_KEY']\n",
    "openai.api_base = os.environ['AZURE_OPENAI_ENDPOINT']\n",
    "openai.api_version = os.environ['AZURE_OPENAI_API_VERSION']"
   ]
  },
  {
   "cell_type": "markdown",
   "metadata": {},
   "source": [
    "#### 2. Define the functions"
   ]
  },
  {
   "cell_type": "code",
   "execution_count": 3,
   "metadata": {},
   "outputs": [
    {
     "data": {
      "application/vnd.jupyter.widget-view+json": {
       "model_id": "3124da98f9584d9db0b950dd9b6af1f6",
       "version_major": 2,
       "version_minor": 0
      },
      "text/plain": [
       "Parsing documents into nodes:   0%|          | 0/1 [00:00<?, ?it/s]"
      ]
     },
     "metadata": {},
     "output_type": "display_data"
    },
    {
     "data": {
      "application/vnd.jupyter.widget-view+json": {
       "model_id": "08022413def748c2accb3a4a9df14dd2",
       "version_major": 2,
       "version_minor": 0
      },
      "text/plain": [
       "Extracting questions:   0%|          | 0/1 [00:00<?, ?it/s]"
      ]
     },
     "metadata": {},
     "output_type": "display_data"
    },
    {
     "data": {
      "application/vnd.jupyter.widget-view+json": {
       "model_id": "b65154b3b63a48499d8730b401488ebd",
       "version_major": 2,
       "version_minor": 0
      },
      "text/plain": [
       "Extracting summaries:   0%|          | 0/1 [00:00<?, ?it/s]"
      ]
     },
     "metadata": {},
     "output_type": "display_data"
    },
    {
     "data": {
      "application/vnd.jupyter.widget-view+json": {
       "model_id": "1d1daa2ca845460282aa1b75048e137a",
       "version_major": 2,
       "version_minor": 0
      },
      "text/plain": [
       "Generating embeddings:   0%|          | 0/1 [00:00<?, ?it/s]"
      ]
     },
     "metadata": {},
     "output_type": "display_data"
    },
    {
     "name": "stdout",
     "output_type": "stream",
     "text": [
      "Processing Document ID: 3b1d4f20-8ecd-460f-9578-6d1be28c71d0, File Name: bachlongvi_text.docx\n",
      "Qdrant Upserting Finished!\n"
     ]
    }
   ],
   "source": [
    "embedding_model = \"azureopenai\"\n",
    "\n",
    "if embedding_model == \"azureopenai\":\n",
    "    embedding_dim = 1536\n",
    "if embedding_model == \"openai\":\n",
    "    embedding_dim = 1536\n",
    "elif embedding_model == \"cohere\":\n",
    "    embedding_dim = 768\n",
    "\n",
    "# Note the uninformative document file name, which may be a common scenario in a production setting\n",
    "loaded_docs = SimpleDirectoryReader(input_dir=\"./data/blv_data\").load_data()\n",
    "\n",
    "# Set up ServiceContext inlude llm and node_parser\n",
    "# llm = OpenAI(temperature=0.0, model=\"gpt-3.5-turbo\", max_tokens=2000)\n",
    "\n",
    "## Using AzureOpenAI\n",
    "llm = AzureOpenAI(\n",
    "    temperature=0.0,\n",
    "    api_type = \"azure\",\n",
    "    engine = \"vpi35turbo16k\",\n",
    "    api_key = os.environ['AZURE_OPENAI_KEY'],\n",
    "    api_base = os.environ['AZURE_OPENAI_ENDPOINT'],\n",
    "    api_version = os.environ['AZURE_OPENAI_API_VERSION'],\n",
    ")\n",
    "\n",
    "## Embedding model\n",
    "embed_model = OpenAIEmbedding(\n",
    "    deployment_name=\"vpi-embedding-ada-002\",\n",
    "    api_type = \"azure\",\n",
    "    api_key = os.environ['AZURE_OPENAI_KEY'],\n",
    "    api_base = os.environ['AZURE_OPENAI_ENDPOINT'],\n",
    "    api_version = os.environ['AZURE_OPENAI_API_VERSION'],\n",
    ")\n",
    "# Build index\n",
    "for loaded_doc in loaded_docs:\n",
    "    ## Indexing and metadata extraction\n",
    "    index = metadata_creator(llm=llm, \n",
    "                             embed_model=embed_model, \n",
    "                             loaded_doc=[loaded_doc],\n",
    "                             separator=\"\\n\\n\",\n",
    "                             chunk_size=1024, \n",
    "                             chunk_overlap=128,\n",
    "                             )\n",
    "    ## Read documents\n",
    "    docs = index.docstore.docs\n",
    "    ## Transfer to Qdrant Point, vector with payload\n",
    "    qdrant_client = qdrant_collection_def(qdrant_url, qdrant_api_key, qdrant_collection, embedding_dim)\n",
    "    ## Upload to Qdrant\n",
    "    qdrant_uploader(qdrant_client, embedding_model, qdrant_collection, docs)\n"
   ]
  },
  {
   "cell_type": "code",
   "execution_count": 6,
   "metadata": {},
   "outputs": [
    {
     "data": {
      "text/plain": [
       "{'file_name': 'bachlongvi_text.docx',\n",
       " 'document_title': 'Dự báo môi trường trầm tích dựa trên mô hình lý thuyết rift 3 pha',\n",
       " 'questions_this_excerpt_can_answer': '1. Mô hình lý thuyết rift 3 pha được sử dụng để dự báo môi trường trầm tích như thế nào?\\n2. Kết quả phân tích ĐTPT theo mô hình lý thuyết rift 3 pha chỉ ra những đặc điểm gì về phân tập đầu tiên và phân tập thứ hai?\\n3. Môi trường năng lượng cao như sông suối có liên quan đến phân tập đầu tiên của pha tách giãn không?\\n4. Môi trường ven hồ hoặc hồ nông có thể là môi trường trầm tích trong khu vực trũng không?\\n5. Trầm tích hình thành trong môi trường hồ nước sâu có những đặc điểm gì đối với phân tập thứ hai của pha tách giãn?',\n",
       " 'section_summary': 'Trong phần này, nhóm tác giả sử dụng mô hình lý thuyết rift 3 pha để dự báo môi trường trầm tích. Kết quả phân tích cho thấy phân tập đầu tiên của pha tách giãn liên quan đến môi trường năng lượng cao như sông suối và có thể là môi trường ven hồ hoặc hồ nông. Phân tập thứ hai hình thành trong pha tách giãn giữa và liên quan đến trầm tích hình thành trong môi trường hồ nước sâu.',\n",
       " 'excerpt_keywords': 'mô hình lý thuyết rift 3 pha, dự báo môi trường trầm tích, VPI-EPC, GEUS 2019, phân tập đầu tiên, pha tách giãn, phản xạ hỗn độn, độ liên tục kém, môi trường năng lượng cao, sông suối, khu vực trũng, môi trường ven hồ, hồ nông, phân tập thứ hai, đặc trưng, biên độ mạnh, trầm tích, môi trường hồ nước sâu'}"
      ]
     },
     "execution_count": 6,
     "metadata": {},
     "output_type": "execute_result"
    }
   ],
   "source": [
    "docs['3b1d4f20-8ecd-460f-9578-6d1be28c71d0'].metadata"
   ]
  },
  {
   "cell_type": "code",
   "execution_count": null,
   "metadata": {},
   "outputs": [],
   "source": []
  }
 ],
 "metadata": {
  "kernelspec": {
   "display_name": "booksage",
   "language": "python",
   "name": "python3"
  },
  "language_info": {
   "codemirror_mode": {
    "name": "ipython",
    "version": 3
   },
   "file_extension": ".py",
   "mimetype": "text/x-python",
   "name": "python",
   "nbconvert_exporter": "python",
   "pygments_lexer": "ipython3",
   "version": "3.11.4"
  },
  "orig_nbformat": 4
 },
 "nbformat": 4,
 "nbformat_minor": 2
}
