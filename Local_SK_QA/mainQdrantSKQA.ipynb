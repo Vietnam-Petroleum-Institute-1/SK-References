{
 "cells": [
  {
   "cell_type": "code",
   "execution_count": 45,
   "metadata": {},
   "outputs": [],
   "source": [
    "import os\n",
    "import semantic_kernel as sk\n",
    "from semantic_kernel.connectors.ai.open_ai import OpenAITextCompletion\n",
    "\n",
    "from plugins.FaqSearchPlugin.FaqSearch import FAQQdrantSearch\n",
    "from plugins.OrchestratorPlugin.OrchestratorPlugin import OrchestratorPlugin\n",
    "\n",
    "# Load environment variables\n",
    "from dotenv import load_dotenv, find_dotenv\n",
    "_ = load_dotenv(find_dotenv())\n",
    "\n",
    "async def main():\n",
    "    # Instantiate your kernel\n",
    "    kernel = sk.Kernel()\n",
    "    # Configure AI service used by the kernel. Load settings from the .env file.\n",
    "    kernel.add_text_completion_service(\n",
    "        \"dv\", OpenAITextCompletion(\"text-davinci-003\", os.environ['OPENAI_API_KEY'])\n",
    "        )\n",
    "\n",
    "    # Add the plugins directory to the kernel\n",
    "    pluginsDirectory = \"./plugins\"\n",
    "    \n",
    "    # Import the semantic functions\n",
    "    # kernel.import_semantic_skill_from_directory(\n",
    "    #     pluginsDirectory, \"QueryingPlugin\"\n",
    "    #     )\n",
    "\n",
    "    # # Import the native functions\n",
    "    FAQSearchFunction = kernel.import_skill(\n",
    "        FAQQdrantSearch(), \"FAQQdrantSearch\"\n",
    "        )\n",
    "\n",
    "    orchestratorPlugin = kernel.import_skill(\n",
    "        OrchestratorPlugin(kernel), \"OrchestratorPlugin\"\n",
    "    )\n",
    "    query = \"Quá trình chuyển dịch năng lượng được thể hiện trong quy hoạch trên như thế nào\"\n",
    "    # Make a request that runs the Sqrt function\n",
    "    result = await orchestratorPlugin[\"route_request\"].invoke_async(query)\n",
    "\n",
    "    # print(f'This is the output: {result}')\n",
    "\n",
    "await main()"
   ]
  },
  {
   "cell_type": "code",
   "execution_count": null,
   "metadata": {},
   "outputs": [],
   "source": []
  }
 ],
 "metadata": {
  "kernelspec": {
   "display_name": "Python 3",
   "language": "python",
   "name": "python3"
  },
  "language_info": {
   "codemirror_mode": {
    "name": "ipython",
    "version": 3
   },
   "file_extension": ".py",
   "mimetype": "text/x-python",
   "name": "python",
   "nbconvert_exporter": "python",
   "pygments_lexer": "ipython3",
   "version": "3.11.4"
  },
  "orig_nbformat": 4
 },
 "nbformat": 4,
 "nbformat_minor": 2
}
